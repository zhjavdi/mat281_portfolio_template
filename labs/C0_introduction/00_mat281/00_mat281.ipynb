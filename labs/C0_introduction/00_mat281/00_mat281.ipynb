{
 "cells": [
  {
   "cell_type": "markdown",
   "metadata": {},
   "source": [
    "<img src=\"images/usm.jpg\" width=\"480\" height=\"240\" align=\"left\"/>"
   ]
  },
  {
   "cell_type": "markdown",
   "metadata": {},
   "source": [
    "# MAT281 - Acerca de del curso"
   ]
  },
  {
   "cell_type": "markdown",
   "metadata": {},
   "source": [
    "## Objetivos \n",
    "\n",
    "* Presentarnos, Motivar el curso, Servicios de utilidad pública.\n"
   ]
  },
  {
   "cell_type": "markdown",
   "metadata": {},
   "source": [
    "## Contenidos\n",
    "* [Presentación](#presentacion)\n",
    "* [Contenidos](#contents)\n",
    "* [Justificación](#why)\n",
    "* [Evaluación](#grading)\n",
    "* [Misceláneo](#misc)"
   ]
  },
  {
   "cell_type": "markdown",
   "metadata": {},
   "source": [
    "<a id='presentacion'></a>\n",
    "## Presentación\n",
    "\n",
    "**Profesor: Francisco Alfaro Medina** \n",
    "* Ingeniero Civil Matemático - UTFSM, Chile\n",
    "    - Mención Estadística Aplicada\n",
    "    - Magíster en Ciencias, mención Matemática\n",
    "\n",
    "\n",
    "* Intereses: Ciencia, educación, estadística aplicada, desarrollo de software.\n",
    "\n",
    "\n",
    "* Actualmente:\n",
    "    - Data Scientis: Cencosud S.A.\n",
    "    \n",
    "    \n",
    "* Contacto:\n",
    "    - Correo Electrónico: francisco.alfaro.496@gmail.com\n",
    "    - Horario de Consultas: Por definir"
   ]
  },
  {
   "cell_type": "markdown",
   "metadata": {},
   "source": [
    "**Ayudante: Eric Zepeda** \n",
    "* Estudiante de Ingeniería Civil Matemática - UTFSM (San Joaquín)\n",
    "* Alumno del ramo MAT281 el año 2019"
   ]
  },
  {
   "cell_type": "markdown",
   "metadata": {},
   "source": [
    "**Ustedes!**\n",
    "\n",
    "* ¿Cuál es tu nombre, carrera, año y cursos de este semeste?\n",
    "* ¿Qué te han dicho de este curso?\n",
    "* ¿Qué esperas del curso?"
   ]
  },
  {
   "cell_type": "markdown",
   "metadata": {},
   "source": [
    "### Historia MAT281 \n",
    "\n",
    "* **Antes del 2014** \n",
    " * Un mundo desconocido\n",
    " * Fuertemente relacionado con el área de especialización del docente (EDP, sitemas dinámicos, estadística, etc.)\n",
    " \n",
    " \n",
    "* **Desde el 2014**\n",
    " * Enfocado a la programación (en python).\n",
    " * Area de especialización: **Data Science** (estadística aplicada)"
   ]
  },
  {
   "cell_type": "markdown",
   "metadata": {},
   "source": [
    "<a id='contents'></a>\n",
    "## Contenidos\n",
    "\n",
    "Según el programa de asignatura, la **descripción** del curso es:\n",
    "\n",
    "*El estudiante adquiere competencias específicas relevantes para la modelación matemática de problemas de ingeniería, que incluyen elementos básicos del análisis de datos, y uso de programas computacionales especializados. Se analizan problemas provenientes de la ingeniería.*\n"
   ]
  },
  {
   "cell_type": "markdown",
   "metadata": {},
   "source": [
    "Según el programa de asignatura, la contribución al **perfil de egreso** es:\n",
    "\n",
    "1. *Comprende los principales conceptos y fenómenos de la física, la química y las ciencias de la ingeniería.*\n",
    "1. *Aplica los conceptos y técnicas de la programación.*\n",
    "1. *Resuelve ecuaciones algebraicas y diferenciales mediante técnicas de aproximación, interpolación, integración y cálculo numérico.*\n",
    "1. *Expone hechos, ideas y argumentos de manera clara, ante grupos pequeños y medianos.*\n",
    "1. *Extrae y procesa datos para obtener información cualitativa de procesos y sistemas.*"
   ]
  },
  {
   "cell_type": "markdown",
   "metadata": {},
   "source": [
    "Según el programa de asignatura, los **resultados de aprendizaje** son:\n",
    "\n",
    "1. *Analiza el concepto de adimensionalización, determinando variables adimensionales en ecuaciones diferenciales.*\n",
    "2. *Evalúa el grado de una aproximación en un modelo matemático, utilizando métodos de cálculo del error.*\n",
    "3. *Determina la complejidad del análisis de grandes volúmenes de datos, aplicando técnicas matemáticas para su estudio.*\n",
    "4. *Diseña el esquema básico de un proyecto para resolver un problema dado, distinguiendo los principales elementos de un proyecto de ingeniería.*"
   ]
  },
  {
   "cell_type": "markdown",
   "metadata": {},
   "source": [
    "## Motivación\n",
    "\n",
    "Ingeniería busca:\n",
    "* Mejor utilización de recursos.\n",
    "* Garantizar calidad y reproducibilidad.\n",
    "* Detectar malas prácticas e ineficiencias.\n",
    "* Utilizar las mejores herramientas para el problema.\n",
    "* Definir métricas para determinar, controlar y mejorar el estado de un sistema."
   ]
  },
  {
   "cell_type": "markdown",
   "metadata": {},
   "source": [
    "## Programa del curso \n",
    "#### (Tentativo)\n",
    "\n",
    "* **Módulo 0 - Introducción:** Planificación del curso, reglas, herramientas, setup, consejos y otros temas introductorios.\n",
    "\n",
    "* **Módulo 1 - Análisis de datos:** Tipos de datos, obtención de datos, detección de errores, análisis, visualización.\n",
    "\n",
    "* **Módulo 2 - Machine Learning:** Obtener conocimiento a través de los datos, predecir valores. Darle valor a los datos.\n",
    "\n"
   ]
  },
  {
   "cell_type": "markdown",
   "metadata": {},
   "source": [
    "<a id='why'></a>\n",
    "## Justificación\n",
    "\n",
    "* Alta demanda de profesionales con capacidades en matemática, estadística, programación y visualización. \n",
    "    - Por ejemplo, [esto](https://www.linkedin.com/jobs/search/?keywords=data%20scientist&originalSubdomain=cl) arroja la búsqueda de _data scientists_ en LinkedIn.\n",
    "* El mundo académico y científico cada día se preocupa más de la _reproducibilidad de resultados_.\n",
    "* Los últimos años, Python se ha alzado como uno de los lenguajes de programación más populares [(link)](https://insights.stackoverflow.com/survey/2019).\n",
    "* Jupyter Project posee una comunidad que se ha dedicado a adoptar este conjunto de herramientas en la educación: [Teaching and Learning with Jupyter](https://jupyter4edu.github.io/jupyter-edu-book/). "
   ]
  },
  {
   "cell_type": "markdown",
   "metadata": {},
   "source": [
    "### Profe! Yo no sé programar...\n",
    "\n",
    "* ¿Cuántos cursos de programación has tenido? ¿2? ¿3?\n",
    "   * La malla curricular de ICM no está enfocada en la programación, pero resulta una habilidad esencial hoy en día.\n",
    "   * Algunos incluso proponen que no saber Data Science es el nuevo analfabetismo.\n",
    "* Python es multipropósito. \n",
    "   * Les servirá para cualquier trabajo que terminen realizando.\n",
    "* ICM debe saber trabajar con datos. \n",
    "   * Excel y python-pandas son excelentes aliados.\n",
    "* El énfasis del curso es _aplicar_, no en programar desde cero.\n",
    "* Todas las clases serán compartidas y vendrán con código de ejemplo para aprender y extender.\n",
    "* Jupyter Notebooks juegan un rol crucial, no es necesario ser un hackerman para comenzar a ejecutar códigos de python."
   ]
  },
  {
   "cell_type": "markdown",
   "metadata": {},
   "source": [
    "### Datos de vital importancia para el desarrollo del curso:\n",
    "\n",
    "* Semestre corto (15 semanas aproximadamente).\n",
    "* Típicamente los estudiantes tienen una gran carga académica este semestre.\n",
    "* Curso de solo 3 créditos."
   ]
  },
  {
   "cell_type": "markdown",
   "metadata": {},
   "source": [
    "<a id='grading'></a>\n",
    "## Evaluación\n",
    "\n"
   ]
  },
  {
   "cell_type": "markdown",
   "metadata": {},
   "source": [
    "\n",
    "* Tareas ($T_i$)\n",
    "* Laboratorios en clases ($L_i$)\n",
    "* Proyecto ($P$)\n",
    "* Factor _Buena Onda_ ($\\omega$)\n",
    "    * Entre 0 y 5 puntos, basados en asistencia a clases, participación, puntualidad y buena disposición. "
   ]
  },
  {
   "cell_type": "markdown",
   "metadata": {},
   "source": [
    "La calificación será de la siguiente manera:\n",
    "\n",
    "$$\n",
    "\\begin{align*}\n",
    "NF &= \\alpha_1 \\bar{T} + \\alpha_2 \\bar{L} + \\alpha_3 P + \\omega,\\\\\n",
    "\\end{align*}\n",
    "$$\n",
    "donde:\n",
    "* $\\alpha_i \\in  (0,1), \\ \\forall i=1,2,3$\n",
    "* $\\alpha_1+\\alpha_2+\\alpha_3 = 1$\n",
    "* Los $\\alpha_i$ se calculará de manera aleatoria al final del semestre\n",
    "\n",
    "### Observación\n",
    "* En caso de no asistir a un laboratorio se calificará con nota cero.\n",
    "* Retraso en los entregables penalizará la calificación (25 puntos por día)."
   ]
  },
  {
   "cell_type": "markdown",
   "metadata": {},
   "source": [
    "<a id='misc'></a>\n",
    "## Misceláneo\n",
    "\n",
    "Reglas de convivencia básicas:\n",
    "\n",
    "- **Respeto**, desde el profesor a los estudiantes y viceversa.\n",
    "- **Cordialidad**, mantengamos un lenguaje y actitud agradable con todos.\n",
    "- **Comunicación**, si algo nos molesta encontrar el momento y la manera adecuada de comunicarlo.\n",
    "- **Feedback constante**, no esperemos a la encuesta docente para mejorar o arreglar cosas."
   ]
  },
  {
   "cell_type": "markdown",
   "metadata": {},
   "source": [
    "### Regla de las 10,000 horas\n",
    "\n",
    "<img src=\"images/10000_hours.jpg\" width=\"500\" alt=\"utfsm-logo\" align=\"center\"/>\n",
    "Toda habilidad require trabajo:\n",
    " * Matemática\n",
    " * Ingeniería\n",
    " * Programación\n",
    " * Tocar guitarra\n",
    " * Fotografía\n",
    " * Dibujo\n",
    "\n",
    "\n",
    " Este curso desarrollaremos habilidades para poder facilitarles su trabajo en ingeniería: el mundo de los datos reales y de las aproximaciones."
   ]
  },
  {
   "cell_type": "markdown",
   "metadata": {},
   "source": [
    "### Resumen\n",
    "* Curso atípico: interactivo y enfásis en vinculación a _\"mundo real\"_\n",
    "* Trabajo con datos reales: esencial\n",
    "* Programaremos en python\n",
    "* Para aprobar: ¡trabajar!\n",
    "* Mantener la buena onda"
   ]
  }
 ],
 "metadata": {
  "kernelspec": {
   "display_name": "Python 3",
   "language": "python",
   "name": "python3"
  },
  "language_info": {
   "codemirror_mode": {
    "name": "ipython",
    "version": 3
   },
   "file_extension": ".py",
   "mimetype": "text/x-python",
   "name": "python",
   "nbconvert_exporter": "python",
   "pygments_lexer": "ipython3",
   "version": "3.7.8"
  },
  "pycharm": {
   "stem_cell": {
    "cell_type": "raw",
    "metadata": {
     "collapsed": false
    },
    "source": []
   }
  }
 },
 "nbformat": 4,
 "nbformat_minor": 4
}

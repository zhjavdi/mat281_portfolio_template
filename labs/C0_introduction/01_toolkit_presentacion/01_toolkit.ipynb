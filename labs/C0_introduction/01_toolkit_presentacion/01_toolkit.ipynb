{
 "cells": [
  {
   "cell_type": "markdown",
   "metadata": {},
   "source": [
    "<img src=\"images/usm.jpg\" width=\"480\" height=\"240\" align=\"left\"/>"
   ]
  },
  {
   "cell_type": "markdown",
   "metadata": {},
   "source": [
    "# MAT281 - Data Science Toolkit"
   ]
  },
  {
   "cell_type": "markdown",
   "metadata": {},
   "source": [
    "## Objetivos \n",
    "\n",
    "* Aprender sobre herramientas básicas que se ocuparan a lo largo del curso.\n"
   ]
  },
  {
   "cell_type": "markdown",
   "metadata": {},
   "source": [
    "## Contenidos\n",
    "\n",
    "* [Sistema Operativo](#c1)\n",
    "* [Python](#c3)\n",
    "* [Project Jupyter](#c4)\n",
    "* [Versionamiento de Código](#c5)"
   ]
  },
  {
   "cell_type": "markdown",
   "metadata": {},
   "source": [
    "<a id='c1'></a>\n",
    "## I.- Sistema Operativo\n",
    "\n",
    "\n",
    "<img src=\"https://www.howtogeek.com/thumbcache/2/200/8b2cb8c7c5fc73604d66fd5f0c38be7a/wp-content/uploads/2018/08/img_5b68e80f77e33.png\" alt=\"\" align=\"center\"/>\n",
    "\n",
    "\n",
    "* Personalmente recomiendo **Linux**, en particular distribuciones como Ubuntu, Mint o Fedora por su facilidad a la hora de instalar.\n",
    "* En ocasiones las implementaciones en **Windows** no están completamente integradas e inclusive en ocasiones no están disponibles.\n",
    "    - Una alternativa es [**Windows Subsystem for Linux**](https://docs.microsoft.com/en-us/windows/wsl/about), pero lamentablemente no se asegura un 100% de compatibilidad.\n",
    "* En el caso que poseas un equipo con **macOS** no debería haber problema."
   ]
  },
  {
   "cell_type": "markdown",
   "metadata": {
    "slideshow": {
     "slide_type": "slide"
    }
   },
   "source": [
    "## Interfaz de Línea de Comandos (*Command Line Interface* / CLI)\n",
    "\n",
    "* Es un método que permite a los usuarios interactuar con algún programa informático por medio de líneas de texto.\n",
    "* Típicamente se hace uso de una terminal/*shell* (ver imagen).\n",
    "* En el día a día dentro de la oficina facilita flujo de trabajo.\n",
    "* Permite moverse entre manipular directorios y ficheros, instalar/actualizar herramientas, aplicaciones, softwares, etc."
   ]
  },
  {
   "cell_type": "markdown",
   "metadata": {
    "slideshow": {
     "slide_type": "-"
    }
   },
   "source": [
    "<img src=\"https://upload.wikimedia.org/wikipedia/commons/2/29/Linux_command-line._Bash._GNOME_Terminal._screenshot.png\" alt=\"\" align=\"center\"/>\n",
    "\n",
    "*Screenshot of a sample bash session in GNOME Terminal 3, Fedora 15. [Wikipedia](https://en.wikipedia.org/wiki/Command-line_interface)* "
   ]
  },
  {
   "cell_type": "markdown",
   "metadata": {},
   "source": [
    "<a id='c3'></a>\n",
    "## Python\n",
    "\n",
    "<img src=\"https://wordsofthislife.com/wp-content/uploads/2013/11/python_icon-1.png\" alt=\"\" width=\"300\" height=\"300\" align=\"center\"/>\n",
    "\n",
    "[Python](https://www.python.org/) es un lenguaje de programación interpretado cuya filosofía hace hincapié en la legibilidad de su código.\n",
    "\n",
    "Se trata de un lenguaje de programación multiparadigma, ya que soporta orientación a objetos, programación imperativa y, en menor medida, programación funcional. Es un lenguaje interpretado, dinámico y multiplataforma.\n",
    "\n",
    "Las principales librerías científicas a instalar y que ocuparemos durante el curso son:\n",
    "\n",
    "* [Numpy](http://www.numpy.org/): Computación científica.\n",
    "* [Pandas](https://pandas.pydata.org/): Análisis de datos.\n",
    "* [Matplotlib](https://matplotlib.org/): Visualización.\n",
    "* [Scikit-Learn](http://scikit-learn.org/stable/): Machine Learning\n",
    "\n",
    "Durante el curso se ocuparán más librerías a modo de complementación (ejemplo, scipy, seaborn, statsmodels ,etc.)"
   ]
  },
  {
   "cell_type": "markdown",
   "metadata": {
    "slideshow": {
     "slide_type": "slide"
    }
   },
   "source": [
    "<a id='c2'></a>\n",
    "## Entorno Virtual\n",
    "\n",
    "<img src=\"https://files.virgool.io/upload/users/63719/posts/bko9k535kg6q/j1xiuolo2c9c.png\" alt=\"\" align=\"center\"/>\n",
    "\n",
    "\n",
    "__Problemas recurrentes:__\n",
    "- Dependencias de librerías (*packages*) incompatibles.\n",
    "- Dificultad a la hora de compartir y reproducir resultados, e.g. no conocer las versiones de las librerías instaladas.\n",
    "- Tener una máquina virtual para cada desarrollo es tedioso y costoso.\n",
    "- Miedo constante a instalar algo nuevo y tu script vuelva a funcionar."
   ]
  },
  {
   "cell_type": "markdown",
   "metadata": {
    "slideshow": {
     "slide_type": "subslide"
    }
   },
   "source": [
    "#### Solución \n",
    "\n",
    "Aislar el desarrollo con tal de mejorar la compatibilidad y reproducibilidad de resultados. "
   ]
  },
  {
   "cell_type": "markdown",
   "metadata": {},
   "source": [
    "####  Para el curso (es recomendable)\n",
    "\n",
    "![Conda](https://conda.io/docs/_images/conda_logo.svg)\n",
    "\n",
    "*Package, dependency and environment management for any language—Python, R, Ruby, Lua, Scala, Java, JavaScript, C/ C++, FORTRAN.* [(Link)](https://conda.io/docs/)"
   ]
  },
  {
   "cell_type": "markdown",
   "metadata": {},
   "source": [
    "#### ¿Por qué Conda?\n",
    "\n",
    "* Open Source\n",
    "* Gestor de librerías __y__ entornos virtuales. \n",
    "* Compatible con Linux, Windows y macOS.\n",
    "* Es agnóstico al lenguaje de programación (inicialmente fue desarrollado para Python).\n",
    "* Es de fácil instalación y uso."
   ]
  },
  {
   "cell_type": "markdown",
   "metadata": {},
   "source": [
    "\n",
    "### Otras alternativas\n",
    "\n",
    "* `pip + virtualenv`: el primero es el gestor favorito de librerías de Python y el segundo es un gestos de entornos virtuales, el contra es que es exclusivo de Python.\n",
    "* `Pipenv` o  `Poetry`: librerías enfocadas al manejo de dependencias (muy recomendables!) \n"
   ]
  },
  {
   "cell_type": "markdown",
   "metadata": {},
   "source": [
    "### Entorno de desarrollo integrado (IDE)\n",
    "\n",
    "<img src=\"https://cdn-images.visual-paradigm.com/features/v12/ide-image.png\" alt=\"\" width=\"300\" height=\"300\" align=\"center\"/>\n",
    "\n",
    "* Un [entorno de desarrollo integrado](https://es.wikipedia.org/wiki/Entorno_de_desarrollo_integrado), en inglés **Integrated Development Environment (IDE)**, es una aplicación informática que proporciona servicios integrales para facilitarle al desarrollador o programador el desarrollo de software.\n",
    "\n",
    "* Normalmente, un IDE consiste de un editor de código fuente, herramientas de construcción automáticas y un depurador. La mayoría de los IDE tienen auto-completado inteligente de código (IntelliSense). \n",
    "\n",
    "* Algunos IDE contienen un compilador, un intérprete, o ambos, tales como NetBeans y Eclipse; otros no, tales como SharpDevelop y Lazarus."
   ]
  },
  {
   "cell_type": "markdown",
   "metadata": {},
   "source": [
    "Existen varios IDE populares que sirven para varios lenguajes de programaci+on. En python, el más recomendable es [Pycharm](https://www.jetbrains.com/pycharm/?gclid=Cj0KCQjw-uH6BRDQARIsAI3I-Uc0HFf8ll0EZRnc6FCFaozMsnxkCiciIok-iRMyfN1xHB9vaArGw6IaAnV7EALw_wcB).\n",
    "\n",
    "### Pycharm\n",
    "\n",
    "<img src=\"https://resources.jetbrains.com/storage/products/pycharm/img/meta/pycharm_logo_300x300.png\" alt=\"\" width=\"200\" height=\"200\" align=\"center\"/>\n",
    "\n",
    "PyCharm es un IDE para desarrolladores profesionales. Fue creado por JetBrains, una empresa conocida por crear excelentes herramientas de desarrollo de software.\n",
    "\n",
    "Hay dos versiones de PyCharm:\n",
    "\n",
    "* **Community**: versión gratuita de código abierto, ligera, buena para Python y desarrollo científico\n",
    "* **Professional**: versión de pago, IDE con todas las funciones con soporte para desarrollo web también"
   ]
  },
  {
   "cell_type": "markdown",
   "metadata": {},
   "source": [
    "### Observación\n",
    "\n",
    "Se recomienda que puedan descargar Pycharm (en su versión gratuita) para poder familiarizarse con este tipo de herramientas, aunque el curso está orientado a trabajar sobre la terminal y con jupyter notebook."
   ]
  },
  {
   "cell_type": "markdown",
   "metadata": {
    "slideshow": {
     "slide_type": "slide"
    }
   },
   "source": [
    "<a id='c4'></a>\n",
    "## Project Jupyter \n",
    "\n",
    "[Project Jupyter](https://jupyter.org/index.html) exists to develop open-source software, open-standards, and services for interactive computing across dozens of programming languages.*\n",
    "\n",
    "<img src=\"https://2.bp.blogspot.com/-Q23VBETHLS0/WN_lgpxinkI/AAAAAAAAA-k/f3DJQfBre0QD5rwMWmGIGhBGjU40MTAxQCLcB/s1600/jupyter.png\" alt=\"\" width=\"360\" height=\"360\" align=\"center\"/>"
   ]
  },
  {
   "cell_type": "markdown",
   "metadata": {
    "slideshow": {
     "slide_type": "subslide"
    }
   },
   "source": [
    "### Jupyter Notebook\n",
    "\n",
    "Es una aplicación web que permite crear y compartir documentos que contienen código, ecuaciones, visualizaciones y texto. Entre sus usos se encuentra:\n",
    "\n",
    "* Limpieza de datos\n",
    "* Transformación de datos\n",
    "* Simulaciones numéricas\n",
    "* Modelamiendo Estadístico\n",
    "* Visualización de Datos\n",
    "* Machine Learning\n",
    "* Mucho más."
   ]
  },
  {
   "cell_type": "markdown",
   "metadata": {
    "slideshow": {
     "slide_type": "subslide"
    }
   },
   "source": [
    "![Jupyter Notebook Example](https://jupyter.org/assets/jupyterpreview.png)"
   ]
  },
  {
   "cell_type": "markdown",
   "metadata": {
    "slideshow": {
     "slide_type": "subslide"
    }
   },
   "source": [
    "### Jupyter Lab\n",
    "\n",
    "* Es la siguiente generación de la interfaz de usuario de *Project Jupyter*.\n",
    "* Similar a Jupyter Notebook cuenta con la facilidad de editar archivos .ipynb (notebooks) y heramientas como una terminal, editor de texto, explorador de archivos, etc.\n",
    "* Eventualmente Jupyter Lab reemplazará a Jupyter Notebok (aunque la versión estable fue liberada hace algunos meses).\n",
    "* Cuenta con una serie de extensiones que puedes instalar (y desarrollar inclurisve.\n",
    "* Más información en: https://github.com/jupyterlab/jupyterlab-demo\n"
   ]
  },
  {
   "cell_type": "markdown",
   "metadata": {},
   "source": [
    "Puedes probar Jupyter Lab con solo dos clicks!\n",
    "\n",
    "1. Ingresar a este link: https://github.com/jupyterlab/jupyterlab-demo\n",
    "2. Hacer click en el icono de binder:  ![Binder](https://mybinder.org/badge_logo.svg)"
   ]
  },
  {
   "cell_type": "markdown",
   "metadata": {},
   "source": [
    "### Otros Proyectos\n",
    "\n",
    "Entre los más conocidos se encuentran:\n",
    "\n",
    "* [JupyterHub](https://jupyterhub.readthedocs.io/): Distribuir Jupyter Noterbooks a múltiples usuarios.\n",
    "* [nbviewer](https://nbviewer.jupyter.org/): Compartir Jupyter Notebooks.\n",
    "* [Jupyter Book](https://jupyterbook.org/): Construir y publicar libros de tópicos computacionales.\n",
    "* [Jupyter Docker Stacks](https://jupyter-docker-stacks.readthedocs.io/): Imágenes de Jupyter para utilizar en Docker."
   ]
  },
  {
   "cell_type": "markdown",
   "metadata": {},
   "source": [
    "<a id='c5'></a>\n",
    "## Versionamiento de Código\n",
    "\n",
    "<img src=\"https://i1.wp.com/help.lieberlieber.com/download/attachments/32342017/image2019-7-2_14-53-19.png?w=1080&ssl=1\" width=\"480\" height=\"240\" align=\"center\"/>\n",
    "\n",
    "* Permite compartir el código fuente de nuestros desarrollos y a la vez mantener un registro de los cambios por los que va pasando.\n",
    "\n",
    "* Herramienta más importante y fundamental dentro del desarrollo.\n",
    "* Tipos de versionadores de código:\n",
    " * [Sistemas Centralizados](https://sites.google.com/site/practicadesarrollosoft/temario/sistemas-de-versionado-de-cdigo/sistemas-de-versionado-de-cdigo-centralizados): Son los más \"tradicionales\", por ejemplo SVN, CVS, etc.\n",
    " * [Sistemas Distribuidos](https://sites.google.com/site/practicadesarrollosoft/temario/sistemas-de-versionado-de-cdigo/sistemas-de-versionado-de-cdigo-distribuidos): son los que están en auge actualmente como: Git, Mercurial, Bazaar, etc.\n",
    "\n",
    "\n"
   ]
  },
  {
   "cell_type": "markdown",
   "metadata": {
    "slideshow": {
     "slide_type": "slide"
    }
   },
   "source": [
    "## Git\n",
    "\n",
    "<img src=\"https://static.platzi.com/media/user_upload/Beginners_guide_setting_up-git-a4bacd39-5be0-4ae4-a956-5117c18efa94.jpg\" alt=\"\" width=\"240\" height=\"240\" align=\"center\"/>\n",
    "\n",
    "_[__Git__](https://git-scm.com/) is a free and open source distributed version control system designed to handle everything from small to very large projects with speed and efficiency._\n",
    "\n",
    "\n",
    "\n",
    "Es importante comprender que _Git_ es la herramienta que permite versionar tus proyectos, sin embargo, a la hora de querer aprovechar más funcionalidades, como compartir o sincronizar tus trabajos se hace necesario utilizar servicios externos. Los más famosos son:\n",
    "\n",
    "* GitHub\n",
    "* GitLab\n",
    "* Bitbucket\n",
    "\n",
    "Piensa lo siguiente, cualquiera podría implementar un correo electrónico entre dos computadoras conectadas entre ellas por LAN pero no conectadas a Internet. Sin embargo la gente utiliza servicios como Gmail, Outlook, etc. con tal de aprovechar de mejor manera las funcionalidades que ofrece la tecnología del correo electrónico. Esta es una analogía perfecta entre las diferencias de Git y los servicios como GitHub o GitLab."
   ]
  },
  {
   "cell_type": "markdown",
   "metadata": {
    "slideshow": {
     "slide_type": "subslide"
    }
   },
   "source": [
    "### GitHub\n",
    "\n",
    "<img src=\"https://miro.medium.com/max/1125/1*wotzQboYWAfaj-7bvGNIkQ.png\" alt=\"\" width=\"360\" height=\"360\" align=\"center\"/>\n",
    "\n",
    "\n",
    "\n",
    "_[GitHub](https://github.com/) is a development platform inspired by the way you work. From open source to business, you can host and review code, manage projects, and build software alongside 30 million developers._\n",
    "Es decir, es una plataforma para alojar proyectos que utilizan Git como sistema de control.\n",
    "\n",
    "El **material del curso** estará disponible a través de GitHub en el siguiente link: [MAT281_2020](https://github.com/FranciscoAlfaroMedina/MAT281_2020)\n",
    ". \n",
    "\n",
    "\n",
    "\n"
   ]
  },
  {
   "cell_type": "markdown",
   "metadata": {},
   "source": [
    "### Resumen\n",
    "\n",
    "* Sistema operativo: Cualquiera, sin embargo se recomiendan alternativas basadas en Unix.\n",
    "* Lenguaje de programación: Python\n",
    "* Entorno virtual: Conda, preferentemetne a través de miniconda.\n",
    "* Entorno de trabajo: Jupyter Lab.\n",
    "* Versionamiento: Git & GitHub."
   ]
  },
  {
   "cell_type": "markdown",
   "metadata": {},
   "source": [
    "## Referencia\n",
    "\n",
    "1. [La guía sensilla](https://rogerdudler.github.io/git-guide/index.es.html)\n",
    "2. [The Ultimate Linux Command Line Guide - Full Bash Tutorial](https://www.freecodecamp.org/news/linux-command-line-bash-tutorial/)"
   ]
  }
 ],
 "metadata": {
  "kernelspec": {
   "display_name": "Python 3",
   "language": "python",
   "name": "python3"
  },
  "language_info": {
   "codemirror_mode": {
    "name": "ipython",
    "version": 3
   },
   "file_extension": ".py",
   "mimetype": "text/x-python",
   "name": "python",
   "nbconvert_exporter": "python",
   "pygments_lexer": "ipython3",
   "version": "3.7.8"
  },
  "pycharm": {
   "stem_cell": {
    "cell_type": "raw",
    "metadata": {
     "collapsed": false
    },
    "source": []
   }
  }
 },
 "nbformat": 4,
 "nbformat_minor": 4
}

{
 "cells": [
  {
   "cell_type": "markdown",
   "metadata": {},
   "source": [
    "<img src=\"images/usm.jpg\" width=\"480\" height=\"240\" align=\"left\"/>"
   ]
  },
  {
   "cell_type": "markdown",
   "metadata": {},
   "source": [
    "# MAT281 - Data Science Toolkit"
   ]
  },
  {
   "cell_type": "markdown",
   "metadata": {},
   "source": [
    "## Objetivos \n",
    "\n",
    "* Instalar las herramientas que se ocuparan a lo largo del curso.\n"
   ]
  },
  {
   "cell_type": "markdown",
   "metadata": {},
   "source": [
    "## Contenidos\n",
    "\n",
    "* [Instalación](#c1)"
   ]
  },
  {
   "cell_type": "markdown",
   "metadata": {},
   "source": [
    "<a id='c1'></a>\n",
    "## Instalación\n",
    "\n",
    "## Git\n",
    "\n",
    "* Windows: Descargar el instalador en la [página oficial](https://git-scm.com/download/win) y ejecutarlo. Recomiendo agregar al `PATH` para acceder de cualquier terminal.\n",
    "* Linux: En algunas distribuciones se encuentra instalado por defecto, en caso contrario sigue las instrucciones de este [link](https://git-scm.com/book/en/v2/Getting-Started-Installing-Git) pues depende de la distribución.\n",
    "\n",
    "Para validar si tu instalación fue correcta, debes ejecutar en la terminal:\n",
    " ```\n",
    " git --version\n",
    " ```\n",
    " Usuarios de Windows que no agregaron Git al `PATH` tendrán que utilizar la terminal _Git Bash_.\n",
    "\n",
    "\n",
    "## GitHub\n",
    "\n",
    "* Utilizando tu correo institucional puedes registrarte a través de [GitHub Student Developer Pack](https://education.github.com/pack), con el cual puedes acceder a repositorios privados, entre otras cosas. En caso contrario, puedes crear una cuenta directamente en el [sitio oficial](https://github.com/).\n",
    "* Para crear tu portafolio personal, ingresa a [este](https://github.com/FranciscoAlfaroMedina/mat281_portfolio_template) repositorio, haz click en *__Use this template__* y asigna el nombre `mat281_portfolio` y en modo público.\n",
    "\n",
    "\n",
    "## Conda\n",
    "\n",
    "* Seguir la instalación regular de desde la [documentación oficial](https://docs.conda.io/projects/conda/en/latest/user-guide/install/) según tu sistema operativo.\n",
    "* Instalar **Miniconda**\n",
    "    - **Windows**: En su menú de inicio tendrán dos nuevos programas **Anaconda Prompt** y **Anaconda Powershell Prompt**, pueden ocupar cualquiera. Personalmente prefiero Powershell.\n",
    "    - **Linux**: En la instalación se recomienda agregar `conda` al `PATH`. Si cada vez que inicias una terminal vez el texto `(base)` al comienzo, debes ejecutar `conda config --set auto_activate_base false` y luego cada vez que quieras utilizar conda debes ejecutar `conda activate`.\n",
    "\n",
    "\n",
    "## Entorno de trabajo\n",
    "\n",
    "* Clonar el repositorio oficial del curso: \n",
    "```\n",
    "git clone https://github.com/FranciscoAlfaroMedina/MAT281_2020.git\n",
    "```\n",
    "en alguna carpeta que estimes conveniente.\n",
    "* Clonar tu portafolio personal:\n",
    "```\n",
    "git clone https://github.com/{GH_USERNAME}/mat281_portfolio.git\n",
    "```\n",
    "donde `{GH_USERNAME}` es tu nombre de usuario en GitHub.\n",
    "* Para crear el entorno virtual ejecuta el siguiente comando\n",
    "```\n",
    "conda env create -f environment.yml --yes\n",
    "```\n",
    "en la carpeta `mat281_portfolio/binder`. Según tu sistema operativo debes utilizar Anaconda Prompt o activar conda en tu terminal.\n",
    "* Verifica que tu ambiente virtual se instaló con `conda env list`, deberías ver dos ambientes virtuales, `base`(default) y `mat281`.\n",
    "* Activa tu ambiente virtual con `conda activate mat281`.\n",
    "* Ejecuta `jupyter lab` en la terminal y en tu navegador de internet accede a `http://localhost:8888/lab` (o sigue el link de la terminal).\n",
    "* Abre el archivo `mat281_portfolio/test/test_installation.ipynb` y verifica que todas las celdas se ejecuten sin errores.\n",
    "* Felicitaciones, tienes todo lo necesario para triunfar en este curso!\n",
    "\n",
    "## Próximos pasos\n",
    "\n",
    "Con tal de facilitar la entrega y revisión de laboratorios, tareas y proyectos, los estudiantes deben subir estos entregables en los plazos establecidos en su portafolio personal. En este [link](https://github.com/FranciscoAlfaroMedina/mat281_portfolio_template/blob/master/setup.md) encontrarás más detalles del flujo típico de una clase (también lo puedes encontrar en `mat281_portfolio/setup.md`)."
   ]
  }
 ],
 "metadata": {
  "kernelspec": {
   "display_name": "Python 3",
   "language": "python",
   "name": "python3"
  },
  "language_info": {
   "codemirror_mode": {
    "name": "ipython",
    "version": 3
   },
   "file_extension": ".py",
   "mimetype": "text/x-python",
   "name": "python",
   "nbconvert_exporter": "python",
   "pygments_lexer": "ipython3",
   "version": "3.7.8"
  },
  "pycharm": {
   "stem_cell": {
    "cell_type": "raw",
    "metadata": {
     "collapsed": false
    },
    "source": []
   }
  }
 },
 "nbformat": 4,
 "nbformat_minor": 4
}

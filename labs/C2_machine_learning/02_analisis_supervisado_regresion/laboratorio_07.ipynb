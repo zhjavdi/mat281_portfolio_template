{
 "cells": [
  {
   "cell_type": "markdown",
   "metadata": {},
   "source": [
    "<img src=\"images/usm.jpg\" width=\"480\" height=\"240\" align=\"left\"/>"
   ]
  },
  {
   "cell_type": "markdown",
   "metadata": {},
   "source": [
    "# MAT281 - Laboratorios N°01\n",
    "\n",
    "## Objetivos del laboratorio\n",
    "\n",
    "* Reforzar conceptos básicos de regresión lineal."
   ]
  },
  {
   "cell_type": "markdown",
   "metadata": {},
   "source": [
    "## Contenidos\n",
    "\n",
    "* [Problema 01](#p1)\n"
   ]
  },
  {
   "cell_type": "markdown",
   "metadata": {},
   "source": [
    "<a id='p1'></a>\n",
    "## I.- Problema 01\n",
    "\n",
    "\n",
    "<img src=\"https://upload.wikimedia.org/wikipedia/commons/thumb/b/b6/Anscombe.svg/1200px-Anscombe.svg.png\" width=\"360\" height=\"360\" align=\"center\"/>\n",
    "\n"
   ]
  },
  {
   "cell_type": "markdown",
   "metadata": {},
   "source": [
    "El **cuarteto de Anscombe** comprende cuatro conjuntos de datos que tienen las mismas propiedades estadísticas, pero que evidentemente son distintas al inspeccionar sus gráficos respectivos.\n",
    "\n",
    "Cada conjunto consiste de once puntos (x, y) y fueron construidos por el estadístico F. J. Anscombe. El cuarteto es una demostración de la importancia de mirar gráficamente un conjunto de datos antes de analizarlos."
   ]
  },
  {
   "cell_type": "code",
   "execution_count": 1,
   "metadata": {},
   "outputs": [],
   "source": [
    "import os\n",
    "import numpy as np\n",
    "import pandas as pd\n",
    "import matplotlib.pyplot as plt\n",
    "import seaborn as sns\n",
    "\n",
    "%matplotlib inline\n",
    "sns.set_palette(\"deep\", desat=.6)\n",
    "sns.set(rc={'figure.figsize':(11.7,8.27)})"
   ]
  },
  {
   "cell_type": "code",
   "execution_count": 2,
   "metadata": {},
   "outputs": [
    {
     "data": {
      "text/html": [
       "<div>\n",
       "<style scoped>\n",
       "    .dataframe tbody tr th:only-of-type {\n",
       "        vertical-align: middle;\n",
       "    }\n",
       "\n",
       "    .dataframe tbody tr th {\n",
       "        vertical-align: top;\n",
       "    }\n",
       "\n",
       "    .dataframe thead th {\n",
       "        text-align: right;\n",
       "    }\n",
       "</style>\n",
       "<table border=\"1\" class=\"dataframe\">\n",
       "  <thead>\n",
       "    <tr style=\"text-align: right;\">\n",
       "      <th></th>\n",
       "      <th>x</th>\n",
       "      <th>y</th>\n",
       "      <th>grupo</th>\n",
       "    </tr>\n",
       "  </thead>\n",
       "  <tbody>\n",
       "    <tr>\n",
       "      <th>0</th>\n",
       "      <td>10</td>\n",
       "      <td>8.04</td>\n",
       "      <td>Grupo_1</td>\n",
       "    </tr>\n",
       "    <tr>\n",
       "      <th>1</th>\n",
       "      <td>8</td>\n",
       "      <td>6.95</td>\n",
       "      <td>Grupo_1</td>\n",
       "    </tr>\n",
       "    <tr>\n",
       "      <th>2</th>\n",
       "      <td>13</td>\n",
       "      <td>7.58</td>\n",
       "      <td>Grupo_1</td>\n",
       "    </tr>\n",
       "    <tr>\n",
       "      <th>3</th>\n",
       "      <td>9</td>\n",
       "      <td>8.81</td>\n",
       "      <td>Grupo_1</td>\n",
       "    </tr>\n",
       "    <tr>\n",
       "      <th>4</th>\n",
       "      <td>11</td>\n",
       "      <td>8.33</td>\n",
       "      <td>Grupo_1</td>\n",
       "    </tr>\n",
       "  </tbody>\n",
       "</table>\n",
       "</div>"
      ],
      "text/plain": [
       "    x     y    grupo\n",
       "0  10  8.04  Grupo_1\n",
       "1   8  6.95  Grupo_1\n",
       "2  13  7.58  Grupo_1\n",
       "3   9  8.81  Grupo_1\n",
       "4  11  8.33  Grupo_1"
      ]
     },
     "execution_count": 2,
     "metadata": {},
     "output_type": "execute_result"
    }
   ],
   "source": [
    "# cargar datos\n",
    "df = pd.read_csv(os.path.join(\"data\",\"anscombe.csv\"), sep=\",\")\n",
    "df.head()"
   ]
  },
  {
   "cell_type": "markdown",
   "metadata": {},
   "source": [
    "Basado en la información presentada responda las siguientes preguntas:\n",
    "\n",
    "1. Gráfique mediante un gráfico tipo **scatter** cada grupo. A simple vista, ¿ los grupos son muy distintos entre si?.\n",
    "2. Realice un resumen de las medidas estadísticas más significativas ocuapando el comando **describe** para cada grupo. Interprete.\n",
    "3. Realice un ajuste lineal para cada grupo. Además, grafique los resultados de la regresión lineal para cada grupo. Interprete.\n",
    "4. Calcule los resultados de las métricas para cada grupo. Interprete.\n",
    "5. Es claro que el ajuste lineal para algunos grupos no es el correcto. Existen varias formas de solucionar este problema (eliminar outliers, otros modelos, etc.). Identifique una estrategia para que el modelo de regresión lineal ajuste de mejor manera e implemente otros modelos en los casos que encuentre necesario.  "
   ]
  },
  {
   "cell_type": "code",
   "execution_count": 3,
   "metadata": {},
   "outputs": [
    {
     "data": {
      "image/png": "[encoded data removed]",
      "text/plain": [
       "<Figure size 842.4x595.44 with 1 Axes>"
      ]
     },
     "metadata": {},
     "output_type": "display_data"
    }
   ],
   "source": [
    "# scatter\n",
    "\n",
    "# Grupo 1\n",
    "sns.scatterplot(\n",
    "    x='x',\n",
    "    y='y',\n",
    "    data=df,\n",
    "    hue='grupo'\n",
    ")\n",
    "plt.title('Grafica del cuarteto de Anscombe')\n",
    "plt.show()"
   ]
  },
  {
   "cell_type": "markdown",
   "metadata": {},
   "source": [
    "Los grupos corresponden al cuarteto de Anscombe, los cuales no se ven muy distintos entre sí a excepción del grupo 4."
   ]
  },
  {
   "cell_type": "code",
   "execution_count": 4,
   "metadata": {},
   "outputs": [
    {
     "name": "stdout",
     "output_type": "stream",
     "text": [
      "Resumen del Grupo 1:\n",
      "\n"
     ]
    },
    {
     "data": {
      "text/html": [
       "<div>\n",
       "<style scoped>\n",
       "    .dataframe tbody tr th:only-of-type {\n",
       "        vertical-align: middle;\n",
       "    }\n",
       "\n",
       "    .dataframe tbody tr th {\n",
       "        vertical-align: top;\n",
       "    }\n",
       "\n",
       "    .dataframe thead th {\n",
       "        text-align: right;\n",
       "    }\n",
       "</style>\n",
       "<table border=\"1\" class=\"dataframe\">\n",
       "  <thead>\n",
       "    <tr style=\"text-align: right;\">\n",
       "      <th></th>\n",
       "      <th>x</th>\n",
       "      <th>y</th>\n",
       "    </tr>\n",
       "  </thead>\n",
       "  <tbody>\n",
       "    <tr>\n",
       "      <th>count</th>\n",
       "      <td>11.000000</td>\n",
       "      <td>11.000000</td>\n",
       "    </tr>\n",
       "    <tr>\n",
       "      <th>mean</th>\n",
       "      <td>9.000000</td>\n",
       "      <td>7.500909</td>\n",
       "    </tr>\n",
       "    <tr>\n",
       "      <th>std</th>\n",
       "      <td>3.316625</td>\n",
       "      <td>2.031568</td>\n",
       "    </tr>\n",
       "    <tr>\n",
       "      <th>min</th>\n",
       "      <td>4.000000</td>\n",
       "      <td>4.260000</td>\n",
       "    </tr>\n",
       "    <tr>\n",
       "      <th>25%</th>\n",
       "      <td>6.500000</td>\n",
       "      <td>6.315000</td>\n",
       "    </tr>\n",
       "    <tr>\n",
       "      <th>50%</th>\n",
       "      <td>9.000000</td>\n",
       "      <td>7.580000</td>\n",
       "    </tr>\n",
       "    <tr>\n",
       "      <th>75%</th>\n",
       "      <td>11.500000</td>\n",
       "      <td>8.570000</td>\n",
       "    </tr>\n",
       "    <tr>\n",
       "      <th>max</th>\n",
       "      <td>14.000000</td>\n",
       "      <td>10.840000</td>\n",
       "    </tr>\n",
       "  </tbody>\n",
       "</table>\n",
       "</div>"
      ],
      "text/plain": [
       "               x          y\n",
       "count  11.000000  11.000000\n",
       "mean    9.000000   7.500909\n",
       "std     3.316625   2.031568\n",
       "min     4.000000   4.260000\n",
       "25%     6.500000   6.315000\n",
       "50%     9.000000   7.580000\n",
       "75%    11.500000   8.570000\n",
       "max    14.000000  10.840000"
      ]
     },
     "execution_count": 4,
     "metadata": {},
     "output_type": "execute_result"
    }
   ],
   "source": [
    "# descripcion del conjunto de datos\n",
    "print('Resumen del Grupo 1:\\n')\n",
    "df[df['grupo']=='Grupo_1'].describe()"
   ]
  },
  {
   "cell_type": "code",
   "execution_count": 5,
   "metadata": {},
   "outputs": [
    {
     "name": "stdout",
     "output_type": "stream",
     "text": [
      "Resumen del Grupo 2:\n",
      "\n"
     ]
    },
    {
     "data": {
      "text/html": [
       "<div>\n",
       "<style scoped>\n",
       "    .dataframe tbody tr th:only-of-type {\n",
       "        vertical-align: middle;\n",
       "    }\n",
       "\n",
       "    .dataframe tbody tr th {\n",
       "        vertical-align: top;\n",
       "    }\n",
       "\n",
       "    .dataframe thead th {\n",
       "        text-align: right;\n",
       "    }\n",
       "</style>\n",
       "<table border=\"1\" class=\"dataframe\">\n",
       "  <thead>\n",
       "    <tr style=\"text-align: right;\">\n",
       "      <th></th>\n",
       "      <th>x</th>\n",
       "      <th>y</th>\n",
       "    </tr>\n",
       "  </thead>\n",
       "  <tbody>\n",
       "    <tr>\n",
       "      <th>count</th>\n",
       "      <td>11.000000</td>\n",
       "      <td>11.000000</td>\n",
       "    </tr>\n",
       "    <tr>\n",
       "      <th>mean</th>\n",
       "      <td>9.000000</td>\n",
       "      <td>7.500909</td>\n",
       "    </tr>\n",
       "    <tr>\n",
       "      <th>std</th>\n",
       "      <td>3.316625</td>\n",
       "      <td>2.031657</td>\n",
       "    </tr>\n",
       "    <tr>\n",
       "      <th>min</th>\n",
       "      <td>4.000000</td>\n",
       "      <td>3.100000</td>\n",
       "    </tr>\n",
       "    <tr>\n",
       "      <th>25%</th>\n",
       "      <td>6.500000</td>\n",
       "      <td>6.695000</td>\n",
       "    </tr>\n",
       "    <tr>\n",
       "      <th>50%</th>\n",
       "      <td>9.000000</td>\n",
       "      <td>8.140000</td>\n",
       "    </tr>\n",
       "    <tr>\n",
       "      <th>75%</th>\n",
       "      <td>11.500000</td>\n",
       "      <td>8.950000</td>\n",
       "    </tr>\n",
       "    <tr>\n",
       "      <th>max</th>\n",
       "      <td>14.000000</td>\n",
       "      <td>9.260000</td>\n",
       "    </tr>\n",
       "  </tbody>\n",
       "</table>\n",
       "</div>"
      ],
      "text/plain": [
       "               x          y\n",
       "count  11.000000  11.000000\n",
       "mean    9.000000   7.500909\n",
       "std     3.316625   2.031657\n",
       "min     4.000000   3.100000\n",
       "25%     6.500000   6.695000\n",
       "50%     9.000000   8.140000\n",
       "75%    11.500000   8.950000\n",
       "max    14.000000   9.260000"
      ]
     },
     "execution_count": 5,
     "metadata": {},
     "output_type": "execute_result"
    }
   ],
   "source": [
    "print('Resumen del Grupo 2:\\n')\n",
    "df[df['grupo']=='Grupo_2'].describe()"
   ]
  },
  {
   "cell_type": "code",
   "execution_count": 6,
   "metadata": {},
   "outputs": [
    {
     "name": "stdout",
     "output_type": "stream",
     "text": [
      "Resumen del Grupo 3:\n",
      "\n"
     ]
    },
    {
     "data": {
      "text/html": [
       "<div>\n",
       "<style scoped>\n",
       "    .dataframe tbody tr th:only-of-type {\n",
       "        vertical-align: middle;\n",
       "    }\n",
       "\n",
       "    .dataframe tbody tr th {\n",
       "        vertical-align: top;\n",
       "    }\n",
       "\n",
       "    .dataframe thead th {\n",
       "        text-align: right;\n",
       "    }\n",
       "</style>\n",
       "<table border=\"1\" class=\"dataframe\">\n",
       "  <thead>\n",
       "    <tr style=\"text-align: right;\">\n",
       "      <th></th>\n",
       "      <th>x</th>\n",
       "      <th>y</th>\n",
       "    </tr>\n",
       "  </thead>\n",
       "  <tbody>\n",
       "    <tr>\n",
       "      <th>count</th>\n",
       "      <td>11.000000</td>\n",
       "      <td>11.000000</td>\n",
       "    </tr>\n",
       "    <tr>\n",
       "      <th>mean</th>\n",
       "      <td>9.000000</td>\n",
       "      <td>7.500000</td>\n",
       "    </tr>\n",
       "    <tr>\n",
       "      <th>std</th>\n",
       "      <td>3.316625</td>\n",
       "      <td>2.030424</td>\n",
       "    </tr>\n",
       "    <tr>\n",
       "      <th>min</th>\n",
       "      <td>4.000000</td>\n",
       "      <td>5.390000</td>\n",
       "    </tr>\n",
       "    <tr>\n",
       "      <th>25%</th>\n",
       "      <td>6.500000</td>\n",
       "      <td>6.250000</td>\n",
       "    </tr>\n",
       "    <tr>\n",
       "      <th>50%</th>\n",
       "      <td>9.000000</td>\n",
       "      <td>7.110000</td>\n",
       "    </tr>\n",
       "    <tr>\n",
       "      <th>75%</th>\n",
       "      <td>11.500000</td>\n",
       "      <td>7.980000</td>\n",
       "    </tr>\n",
       "    <tr>\n",
       "      <th>max</th>\n",
       "      <td>14.000000</td>\n",
       "      <td>12.740000</td>\n",
       "    </tr>\n",
       "  </tbody>\n",
       "</table>\n",
       "</div>"
      ],
      "text/plain": [
       "               x          y\n",
       "count  11.000000  11.000000\n",
       "mean    9.000000   7.500000\n",
       "std     3.316625   2.030424\n",
       "min     4.000000   5.390000\n",
       "25%     6.500000   6.250000\n",
       "50%     9.000000   7.110000\n",
       "75%    11.500000   7.980000\n",
       "max    14.000000  12.740000"
      ]
     },
     "execution_count": 6,
     "metadata": {},
     "output_type": "execute_result"
    }
   ],
   "source": [
    "print('Resumen del Grupo 3:\\n')\n",
    "df[df['grupo']=='Grupo_3'].describe()"
   ]
  },
  {
   "cell_type": "code",
   "execution_count": 7,
   "metadata": {},
   "outputs": [
    {
     "name": "stdout",
     "output_type": "stream",
     "text": [
      "Resumen del Grupo 4:\n",
      "\n"
     ]
    },
    {
     "data": {
      "text/html": [
       "<div>\n",
       "<style scoped>\n",
       "    .dataframe tbody tr th:only-of-type {\n",
       "        vertical-align: middle;\n",
       "    }\n",
       "\n",
       "    .dataframe tbody tr th {\n",
       "        vertical-align: top;\n",
       "    }\n",
       "\n",
       "    .dataframe thead th {\n",
       "        text-align: right;\n",
       "    }\n",
       "</style>\n",
       "<table border=\"1\" class=\"dataframe\">\n",
       "  <thead>\n",
       "    <tr style=\"text-align: right;\">\n",
       "      <th></th>\n",
       "      <th>x</th>\n",
       "      <th>y</th>\n",
       "    </tr>\n",
       "  </thead>\n",
       "  <tbody>\n",
       "    <tr>\n",
       "      <th>count</th>\n",
       "      <td>11.000000</td>\n",
       "      <td>11.000000</td>\n",
       "    </tr>\n",
       "    <tr>\n",
       "      <th>mean</th>\n",
       "      <td>9.000000</td>\n",
       "      <td>7.500909</td>\n",
       "    </tr>\n",
       "    <tr>\n",
       "      <th>std</th>\n",
       "      <td>3.316625</td>\n",
       "      <td>2.030579</td>\n",
       "    </tr>\n",
       "    <tr>\n",
       "      <th>min</th>\n",
       "      <td>8.000000</td>\n",
       "      <td>5.250000</td>\n",
       "    </tr>\n",
       "    <tr>\n",
       "      <th>25%</th>\n",
       "      <td>8.000000</td>\n",
       "      <td>6.170000</td>\n",
       "    </tr>\n",
       "    <tr>\n",
       "      <th>50%</th>\n",
       "      <td>8.000000</td>\n",
       "      <td>7.040000</td>\n",
       "    </tr>\n",
       "    <tr>\n",
       "      <th>75%</th>\n",
       "      <td>8.000000</td>\n",
       "      <td>8.190000</td>\n",
       "    </tr>\n",
       "    <tr>\n",
       "      <th>max</th>\n",
       "      <td>19.000000</td>\n",
       "      <td>12.500000</td>\n",
       "    </tr>\n",
       "  </tbody>\n",
       "</table>\n",
       "</div>"
      ],
      "text/plain": [
       "               x          y\n",
       "count  11.000000  11.000000\n",
       "mean    9.000000   7.500909\n",
       "std     3.316625   2.030579\n",
       "min     8.000000   5.250000\n",
       "25%     8.000000   6.170000\n",
       "50%     8.000000   7.040000\n",
       "75%     8.000000   8.190000\n",
       "max    19.000000  12.500000"
      ]
     },
     "execution_count": 7,
     "metadata": {},
     "output_type": "execute_result"
    }
   ],
   "source": [
    "print('Resumen del Grupo 4:\\n')\n",
    "df[df['grupo']=='Grupo_4'].describe()"
   ]
  },
  {
   "cell_type": "markdown",
   "metadata": {},
   "source": [
    "Podríamos decir según la descripción de los datos que la mayoría de ellos se encuentra en el rango [6,11]. Además, el grupo 4 podría presentar valores atípicos. Planteamos el modelo de Regresión Lineal para cada grupo:"
   ]
  },
  {
   "cell_type": "code",
   "execution_count": 8,
   "metadata": {},
   "outputs": [
    {
     "name": "stdout",
     "output_type": "stream",
     "text": [
      "Separando informacion del Grupo 1:\n",
      "\n",
      "numero de filas data original :  11\n",
      "numero de filas train set     :  7\n",
      "numero de filas test set      :  4\n"
     ]
    }
   ],
   "source": [
    "from sklearn import datasets\n",
    "from sklearn.model_selection import train_test_split\n",
    "\n",
    "# import some data to play with\n",
    "\n",
    "X1 = df[df['grupo']=='Grupo_1'][['x']] # we only take the first two features.\n",
    "y1 = df[df['grupo']=='Grupo_1']['y']\n",
    "\n",
    "X1_train, X1_test, y1_train, y1_test = train_test_split(X1, y1, test_size=0.35, random_state=42)\n",
    "\n",
    "# print rows train and test sets\n",
    "print('Separando informacion del Grupo 1:\\n')\n",
    "print('numero de filas data original : ',len(X1))\n",
    "print('numero de filas train set     : ',len(X1_train))\n",
    "print('numero de filas test set      : ',len(X1_test))"
   ]
  },
  {
   "cell_type": "code",
   "execution_count": 9,
   "metadata": {},
   "outputs": [],
   "source": [
    "# importando el modelo de regresión lineal\n",
    "from sklearn.linear_model import LinearRegression\n",
    "\n",
    "model_rl1 = LinearRegression() # Creando el modelo."
   ]
  },
  {
   "cell_type": "code",
   "execution_count": 10,
   "metadata": {},
   "outputs": [
    {
     "data": {
      "text/plain": [
       "LinearRegression()"
      ]
     },
     "execution_count": 10,
     "metadata": {},
     "output_type": "execute_result"
    }
   ],
   "source": [
    "# ajustando el modelo\n",
    "model_rl1.fit(X1_train, y1_train) "
   ]
  },
  {
   "cell_type": "code",
   "execution_count": 11,
   "metadata": {},
   "outputs": [
    {
     "name": "stdout",
     "output_type": "stream",
     "text": [
      "El mejor ajuste lineal viene dado por la recta: \n",
      "\n",
      "     f_1(x) = 3.56 + 0.46*x\n"
     ]
    }
   ],
   "source": [
    "# Lista de coeficientes B para cada X\n",
    "\n",
    "beta1_0 = round(model_rl1.intercept_,2)\n",
    "beta1_1 = round(model_rl1.coef_[0],2)\n",
    "\n",
    "print(f\"El mejor ajuste lineal viene dado por la recta: \\n\\n     \\\n",
    "f_1(x) = {beta1_0} + {beta1_1}*x\")"
   ]
  },
  {
   "cell_type": "code",
   "execution_count": 12,
   "metadata": {},
   "outputs": [
    {
     "data": {
      "text/plain": [
       "array([10.02274554,  8.17712054,  6.79290179,  5.87008929])"
      ]
     },
     "execution_count": 12,
     "metadata": {},
     "output_type": "execute_result"
    }
   ],
   "source": [
    "# predicciones\n",
    "Y1_predict = model_rl1.predict(X1_test)\n",
    "Y1_predict"
   ]
  },
  {
   "cell_type": "code",
   "execution_count": 13,
   "metadata": {},
   "outputs": [
    {
     "data": {
      "image/png": "[encoded data removed]",
      "text/plain": [
       "<Figure size 792x612 with 1 Axes>"
      ]
     },
     "metadata": {},
     "output_type": "display_data"
    }
   ],
   "source": [
    "# graficos con seaborn\n",
    "        \n",
    "beta1_0 = model_rl1.intercept_\n",
    "beta1_1 = model_rl1.coef_[0]\n",
    "        \n",
    "x1_range = np.arange(4,14,0.1)\n",
    "        \n",
    "df_plot1 = pd.DataFrame({'x':x1_range,\n",
    "                        'y_true':[beta1_0 + beta1_1*n for n in x1_range]})\n",
    "  \n",
    "df1 = pd.DataFrame({'x':X1['x'],\n",
    "                           'y_true':y1})\n",
    "        \n",
    "fig, ax = plt.subplots(figsize=(11, 8.5))\n",
    "        \n",
    "        \n",
    "sns.scatterplot(x='x', y='y_true', data=df1, ax=ax)\n",
    "sns.lineplot(x='x', y='y_true', data=df_plot1,ax=ax,color=\"red\")\n",
    "\n",
    "plt.xlabel('x1')\n",
    "plt.ylabel('y1')\n",
    "plt.title('Ajuste sobre Grupo 1')\n",
    "plt.show()"
   ]
  },
  {
   "cell_type": "markdown",
   "metadata": {},
   "source": [
    "Gráficamente nuestro modelo no se ajusta tan bien a los datos, pues la recta solo toma 1 dato. No obstante, los datos tienen una dispersión considerable, por lo que los puntos se encuentran cerca de la recta. Veamos las métricas:"
   ]
  },
  {
   "cell_type": "code",
   "execution_count": 14,
   "metadata": {},
   "outputs": [
    {
     "name": "stdout",
     "output_type": "stream",
     "text": [
      "\n",
      "Metricas para el regresor x1:\n"
     ]
    },
    {
     "data": {
      "text/html": [
       "<div>\n",
       "<style scoped>\n",
       "    .dataframe tbody tr th:only-of-type {\n",
       "        vertical-align: middle;\n",
       "    }\n",
       "\n",
       "    .dataframe tbody tr th {\n",
       "        vertical-align: top;\n",
       "    }\n",
       "\n",
       "    .dataframe thead th {\n",
       "        text-align: right;\n",
       "    }\n",
       "</style>\n",
       "<table border=\"1\" class=\"dataframe\">\n",
       "  <thead>\n",
       "    <tr style=\"text-align: right;\">\n",
       "      <th></th>\n",
       "      <th>mae</th>\n",
       "      <th>mse</th>\n",
       "      <th>rmse</th>\n",
       "      <th>mape</th>\n",
       "      <th>maape</th>\n",
       "      <th>wmape</th>\n",
       "      <th>mmape</th>\n",
       "      <th>smape</th>\n",
       "      <th>r2</th>\n",
       "    </tr>\n",
       "  </thead>\n",
       "  <tbody>\n",
       "    <tr>\n",
       "      <th>0</th>\n",
       "      <td>0.5907</td>\n",
       "      <td>0.9878</td>\n",
       "      <td>0.9939</td>\n",
       "      <td>0.1165</td>\n",
       "      <td>0.1113</td>\n",
       "      <td>0.0829</td>\n",
       "      <td>0.0971</td>\n",
       "      <td>0.099</td>\n",
       "      <td>0.7572</td>\n",
       "    </tr>\n",
       "  </tbody>\n",
       "</table>\n",
       "</div>"
      ],
      "text/plain": [
       "      mae     mse    rmse    mape   maape   wmape   mmape  smape      r2\n",
       "0  0.5907  0.9878  0.9939  0.1165  0.1113  0.0829  0.0971  0.099  0.7572"
      ]
     },
     "execution_count": 14,
     "metadata": {},
     "output_type": "execute_result"
    }
   ],
   "source": [
    "from metrics_regression import *\n",
    "from sklearn.metrics import r2_score\n",
    " \n",
    "df_temp1 = pd.DataFrame(\n",
    "    {\n",
    "        'y':y1_test,\n",
    "        'yhat': model_rl1.predict(X1_test)\n",
    "        }\n",
    ")\n",
    "\n",
    "df_metrics1 = summary_metrics(df_temp1)\n",
    "# calcular r2 y r2 ajustado\n",
    "\n",
    "r2 = round(r2_score(y1_test, model_rl1.predict(X1_test)),4)\n",
    "\n",
    "df_metrics1['r2'] =  r2\n",
    "\n",
    "print('\\nMetricas para el regresor x1:')\n",
    "df_metrics1"
   ]
  },
  {
   "cell_type": "markdown",
   "metadata": {},
   "source": [
    "Basado en los datos y las métricas, podemos decir que el modelo se aproxima bien a los datos."
   ]
  },
  {
   "cell_type": "code",
   "execution_count": 15,
   "metadata": {
    "scrolled": true
   },
   "outputs": [
    {
     "name": "stdout",
     "output_type": "stream",
     "text": [
      "Separando informacion del Grupo 2:\n",
      "\n",
      "numero de filas data original :  11\n",
      "numero de filas train set     :  7\n",
      "numero de filas test set      :  4\n"
     ]
    }
   ],
   "source": [
    "# import some data to play with\n",
    "\n",
    "X2 = df[df['grupo']=='Grupo_2'][['x']] # we only take the first two features.\n",
    "y2 = df[df['grupo']=='Grupo_2']['y']\n",
    "\n",
    "X2_train, X2_test, y2_train, y2_test = train_test_split(X2, y2, test_size=0.36, random_state=42)\n",
    "\n",
    "# print rows train and test sets\n",
    "print('Separando informacion del Grupo 2:\\n')\n",
    "print('numero de filas data original : ',len(X2))\n",
    "print('numero de filas train set     : ',len(X2_train))\n",
    "print('numero de filas test set      : ',len(X2_test))"
   ]
  },
  {
   "cell_type": "code",
   "execution_count": 16,
   "metadata": {},
   "outputs": [],
   "source": [
    "# importando el modelo de regresión lineal\n",
    "from sklearn.linear_model import LinearRegression\n",
    "\n",
    "model_rl2 = LinearRegression() # Creando el modelo."
   ]
  },
  {
   "cell_type": "code",
   "execution_count": 17,
   "metadata": {},
   "outputs": [
    {
     "data": {
      "text/plain": [
       "LinearRegression()"
      ]
     },
     "execution_count": 17,
     "metadata": {},
     "output_type": "execute_result"
    }
   ],
   "source": [
    "# ajustando el modelo\n",
    "model_rl2.fit(X2_train, y2_train) "
   ]
  },
  {
   "cell_type": "code",
   "execution_count": 18,
   "metadata": {},
   "outputs": [
    {
     "name": "stdout",
     "output_type": "stream",
     "text": [
      "El mejor ajuste lineal viene dado por la recta: \n",
      "\n",
      "     f_2(x) = 2.15 + 0.61*x\n"
     ]
    }
   ],
   "source": [
    "# Lista de coeficientes B para cada X\n",
    "\n",
    "beta2_0 = round(model_rl2.intercept_,2)\n",
    "beta2_1 = round(model_rl2.coef_[0],2)\n",
    "\n",
    "print(f\"El mejor ajuste lineal viene dado por la recta: \\n\\n     \\\n",
    "f_2(x) = {beta2_0} + {beta2_1}*x\")"
   ]
  },
  {
   "cell_type": "code",
   "execution_count": 19,
   "metadata": {},
   "outputs": [
    {
     "data": {
      "text/plain": [
       "array([10.644375,  8.216875,  6.39625 ,  5.1825  ])"
      ]
     },
     "execution_count": 19,
     "metadata": {},
     "output_type": "execute_result"
    }
   ],
   "source": [
    "# predicciones\n",
    "Y2_predict = model_rl2.predict(X2_test)\n",
    "Y2_predict"
   ]
  },
  {
   "cell_type": "code",
   "execution_count": 20,
   "metadata": {},
   "outputs": [
    {
     "data": {
      "image/png": "[encoded data removed]",
      "text/plain": [
       "<Figure size 792x612 with 1 Axes>"
      ]
     },
     "metadata": {},
     "output_type": "display_data"
    }
   ],
   "source": [
    "# graficos con seaborn\n",
    "        \n",
    "beta2_0 = model_rl2.intercept_\n",
    "beta2_1 = model_rl2.coef_[0]\n",
    "        \n",
    "x2_range = np.arange(4,20,0.1)\n",
    "        \n",
    "df_plot2 = pd.DataFrame({'x':x2_range,\n",
    "                        'y_true':[beta2_0 + beta2_1*n for n in x2_range]})\n",
    "  \n",
    "df2 = pd.DataFrame({'x':X2['x'],\n",
    "                           'y_true':y2})\n",
    "        \n",
    "fig, ax = plt.subplots(figsize=(11, 8.5))\n",
    "        \n",
    "        \n",
    "sns.scatterplot(x='x', y='y_true', data=df2, ax=ax)\n",
    "sns.lineplot(x='x', y='y_true', data=df_plot2,ax=ax,color=\"red\")\n",
    "\n",
    "plt.xlabel('x2')\n",
    "plt.ylabel('y2')\n",
    "plt.title('Ajuste sobre Grupo 2')\n",
    "plt.show()"
   ]
  },
  {
   "cell_type": "markdown",
   "metadata": {},
   "source": [
    "Gráficamente nuestro modelo no se ajusta tan bien a los datos, pues la recta no toma ningún 1 dato. No obstante, los datos tienen una dispersión considerable, por lo que los puntos se encuentran cerca de la recta. Veamos las métricas:"
   ]
  },
  {
   "cell_type": "code",
   "execution_count": 21,
   "metadata": {},
   "outputs": [
    {
     "name": "stdout",
     "output_type": "stream",
     "text": [
      "\n",
      "Metricas para el regresor x2:\n"
     ]
    },
    {
     "data": {
      "text/html": [
       "<div>\n",
       "<style scoped>\n",
       "    .dataframe tbody tr th:only-of-type {\n",
       "        vertical-align: middle;\n",
       "    }\n",
       "\n",
       "    .dataframe tbody tr th {\n",
       "        vertical-align: top;\n",
       "    }\n",
       "\n",
       "    .dataframe thead th {\n",
       "        text-align: right;\n",
       "    }\n",
       "</style>\n",
       "<table border=\"1\" class=\"dataframe\">\n",
       "  <thead>\n",
       "    <tr style=\"text-align: right;\">\n",
       "      <th></th>\n",
       "      <th>mae</th>\n",
       "      <th>mse</th>\n",
       "      <th>rmse</th>\n",
       "      <th>mape</th>\n",
       "      <th>maape</th>\n",
       "      <th>wmape</th>\n",
       "      <th>mmape</th>\n",
       "      <th>smape</th>\n",
       "      <th>r2</th>\n",
       "    </tr>\n",
       "  </thead>\n",
       "  <tbody>\n",
       "    <tr>\n",
       "      <th>0</th>\n",
       "      <td>1.1934</td>\n",
       "      <td>2.067</td>\n",
       "      <td>1.4377</td>\n",
       "      <td>0.1569</td>\n",
       "      <td>0.1541</td>\n",
       "      <td>0.1633</td>\n",
       "      <td>0.1381</td>\n",
       "      <td>0.1484</td>\n",
       "      <td>0.2186</td>\n",
       "    </tr>\n",
       "  </tbody>\n",
       "</table>\n",
       "</div>"
      ],
      "text/plain": [
       "      mae    mse    rmse    mape   maape   wmape   mmape   smape      r2\n",
       "0  1.1934  2.067  1.4377  0.1569  0.1541  0.1633  0.1381  0.1484  0.2186"
      ]
     },
     "execution_count": 21,
     "metadata": {},
     "output_type": "execute_result"
    }
   ],
   "source": [
    "from metrics_regression import *\n",
    "from sklearn.metrics import r2_score\n",
    " \n",
    "df_temp2 = pd.DataFrame(\n",
    "    {\n",
    "        'y':y2_test,\n",
    "        'yhat': model_rl2.predict(X2_test)\n",
    "        }\n",
    ")\n",
    "\n",
    "df_metrics2 = summary_metrics(df_temp2)\n",
    "# calcular r2 y r2 ajustado\n",
    "\n",
    "r2 = round(r2_score(y2_test, model_rl2.predict(X2_test)),4)\n",
    "\n",
    "df_metrics2['r2'] =  r2\n",
    "\n",
    "print('\\nMetricas para el regresor x2:')\n",
    "df_metrics2"
   ]
  },
  {
   "cell_type": "markdown",
   "metadata": {},
   "source": [
    "Basado en los datos y las métricas, podemos decir que el modelo se aproxima a los datos, pero no lo suficiente."
   ]
  },
  {
   "cell_type": "code",
   "execution_count": 22,
   "metadata": {},
   "outputs": [
    {
     "name": "stdout",
     "output_type": "stream",
     "text": [
      "Separando informacion del Grupo 3:\n",
      "\n",
      "numero de filas data original :  11\n",
      "numero de filas train set     :  7\n",
      "numero de filas test set      :  4\n"
     ]
    }
   ],
   "source": [
    "# import some data to play with\n",
    "\n",
    "X3 = df[df['grupo']=='Grupo_3'][['x']] # we only take the first two features.\n",
    "y3 = df[df['grupo']=='Grupo_3']['y']\n",
    "\n",
    "X3_train, X3_test, y3_train, y3_test = train_test_split(X3, y3, test_size=0.35, random_state=42)\n",
    "\n",
    "# print rows train and test sets\n",
    "print('Separando informacion del Grupo 3:\\n')\n",
    "print('numero de filas data original : ',len(X3))\n",
    "print('numero de filas train set     : ',len(X3_train))\n",
    "print('numero de filas test set      : ',len(X3_test))"
   ]
  },
  {
   "cell_type": "code",
   "execution_count": 23,
   "metadata": {},
   "outputs": [],
   "source": [
    "# importando el modelo de regresión lineal\n",
    "from sklearn.linear_model import LinearRegression\n",
    "\n",
    "model_rl3 = LinearRegression() # Creando el modelo."
   ]
  },
  {
   "cell_type": "code",
   "execution_count": 24,
   "metadata": {},
   "outputs": [
    {
     "data": {
      "text/plain": [
       "LinearRegression()"
      ]
     },
     "execution_count": 24,
     "metadata": {},
     "output_type": "execute_result"
    }
   ],
   "source": [
    "# ajustando el modelo\n",
    "model_rl3.fit(X3_train, y3_train) "
   ]
  },
  {
   "cell_type": "code",
   "execution_count": 25,
   "metadata": {},
   "outputs": [
    {
     "name": "stdout",
     "output_type": "stream",
     "text": [
      "El mejor ajuste lineal viene dado por la recta: \n",
      "\n",
      "     f_3(x) = 2.23 + 0.61*x\n"
     ]
    }
   ],
   "source": [
    "# Lista de coeficientes B para cada X\n",
    "\n",
    "beta3_0 = round(model_rl3.intercept_,2)\n",
    "beta3_1 = round(model_rl3.coef_[0],2)\n",
    "\n",
    "print(f\"El mejor ajuste lineal viene dado por la recta: \\n\\n     \\\n",
    "f_3(x) = {beta3_0} + {beta3_1}*x\")"
   ]
  },
  {
   "cell_type": "code",
   "execution_count": 26,
   "metadata": {},
   "outputs": [
    {
     "data": {
      "text/plain": [
       "array([10.77377232,  8.33189732,  6.50049107,  5.27955357])"
      ]
     },
     "execution_count": 26,
     "metadata": {},
     "output_type": "execute_result"
    }
   ],
   "source": [
    "# predicciones\n",
    "Y3_predict = model_rl3.predict(X3_test)\n",
    "Y3_predict"
   ]
  },
  {
   "cell_type": "code",
   "execution_count": 27,
   "metadata": {},
   "outputs": [
    {
     "data": {
      "image/png": "[encoded data removed]",
      "text/plain": [
       "<Figure size 792x612 with 1 Axes>"
      ]
     },
     "metadata": {},
     "output_type": "display_data"
    }
   ],
   "source": [
    "# graficos con seaborn\n",
    "        \n",
    "beta3_0 = model_rl3.intercept_\n",
    "beta3_1 = model_rl3.coef_[0]\n",
    "        \n",
    "x3_range = np.arange(3,15,0.1)\n",
    "        \n",
    "df_plot3 = pd.DataFrame({'x':x3_range,\n",
    "                        'y_true':[beta3_0 + beta3_1*n for n in x3_range]})\n",
    "  \n",
    "df3 = pd.DataFrame({'x':X3['x'],\n",
    "                           'y_true':y3})\n",
    "        \n",
    "fig, ax = plt.subplots(figsize=(11, 8.5))\n",
    "        \n",
    "        \n",
    "sns.scatterplot(x='x', y='y_true', data=df3, ax=ax)\n",
    "sns.lineplot(x='x', y='y_true', data=df_plot3,ax=ax,color=\"red\")\n",
    "\n",
    "plt.xlabel('x3')\n",
    "plt.ylabel('y3')\n",
    "plt.title('Ajuste sobre Grupo 3')\n",
    "plt.show()"
   ]
  },
  {
   "cell_type": "markdown",
   "metadata": {},
   "source": [
    "Gráficamente nuestro modelo no se ajusta tan bien a los datos, pues la recta no toma ningún dato. No obstante, los datos tienen una dispersión considerable, por lo que los puntos se encuentran cerca de la recta. Veamos las métricas:"
   ]
  },
  {
   "cell_type": "code",
   "execution_count": 28,
   "metadata": {},
   "outputs": [
    {
     "name": "stdout",
     "output_type": "stream",
     "text": [
      "\n",
      "Metricas para el regresor x3:\n"
     ]
    },
    {
     "data": {
      "text/html": [
       "<div>\n",
       "<style scoped>\n",
       "    .dataframe tbody tr th:only-of-type {\n",
       "        vertical-align: middle;\n",
       "    }\n",
       "\n",
       "    .dataframe tbody tr th {\n",
       "        vertical-align: top;\n",
       "    }\n",
       "\n",
       "    .dataframe thead th {\n",
       "        text-align: right;\n",
       "    }\n",
       "</style>\n",
       "<table border=\"1\" class=\"dataframe\">\n",
       "  <thead>\n",
       "    <tr style=\"text-align: right;\">\n",
       "      <th></th>\n",
       "      <th>mae</th>\n",
       "      <th>mse</th>\n",
       "      <th>rmse</th>\n",
       "      <th>mape</th>\n",
       "      <th>maape</th>\n",
       "      <th>wmape</th>\n",
       "      <th>mmape</th>\n",
       "      <th>smape</th>\n",
       "      <th>r2</th>\n",
       "    </tr>\n",
       "  </thead>\n",
       "  <tbody>\n",
       "    <tr>\n",
       "      <th>0</th>\n",
       "      <td>0.8342</td>\n",
       "      <td>1.1773</td>\n",
       "      <td>1.085</td>\n",
       "      <td>0.1067</td>\n",
       "      <td>0.1057</td>\n",
       "      <td>0.1173</td>\n",
       "      <td>0.0943</td>\n",
       "      <td>0.1005</td>\n",
       "      <td>0.1432</td>\n",
       "    </tr>\n",
       "  </tbody>\n",
       "</table>\n",
       "</div>"
      ],
      "text/plain": [
       "      mae     mse   rmse    mape   maape   wmape   mmape   smape      r2\n",
       "0  0.8342  1.1773  1.085  0.1067  0.1057  0.1173  0.0943  0.1005  0.1432"
      ]
     },
     "execution_count": 28,
     "metadata": {},
     "output_type": "execute_result"
    }
   ],
   "source": [
    "from metrics_regression import *\n",
    "from sklearn.metrics import r2_score\n",
    " \n",
    "df_temp3 = pd.DataFrame(\n",
    "    {\n",
    "        'y':y3_test,\n",
    "        'yhat': model_rl3.predict(X3_test)\n",
    "        }\n",
    ")\n",
    "\n",
    "df_metrics3 = summary_metrics(df_temp3)\n",
    "# calcular r2 y r2 ajustado\n",
    "\n",
    "r2 = round(r2_score(y3_test, model_rl3.predict(X3_test)),4)\n",
    "\n",
    "df_metrics3['r2'] =  r2\n",
    "\n",
    "print('\\nMetricas para el regresor x3:')\n",
    "df_metrics3"
   ]
  },
  {
   "cell_type": "markdown",
   "metadata": {},
   "source": [
    "Basado en los datos y las métricas, podemos decir que el modelo se aproxima a los datos, pero no lo suficiente."
   ]
  },
  {
   "cell_type": "code",
   "execution_count": 29,
   "metadata": {},
   "outputs": [
    {
     "name": "stdout",
     "output_type": "stream",
     "text": [
      "Separando informacion del Grupo 4:\n",
      "\n",
      "numero de filas data original :  11\n",
      "numero de filas train set     :  6\n",
      "numero de filas test set      :  5\n"
     ]
    }
   ],
   "source": [
    "# import some data to play with\n",
    "\n",
    "X4 = df[df['grupo']=='Grupo_4'][['x']] # we only take the first two features.\n",
    "y4 = df[df['grupo']=='Grupo_4']['y']\n",
    "\n",
    "X4_train, X4_test, y4_train, y4_test = train_test_split(X4, y4, test_size=0.43, random_state=42)\n",
    "\n",
    "# print rows train and test sets\n",
    "print('Separando informacion del Grupo 4:\\n')\n",
    "print('numero de filas data original : ',len(X4))\n",
    "print('numero de filas train set     : ',len(X4_train))\n",
    "print('numero de filas test set      : ',len(X4_test))"
   ]
  },
  {
   "cell_type": "code",
   "execution_count": 30,
   "metadata": {},
   "outputs": [],
   "source": [
    "# importando el modelo de regresión lineal\n",
    "from sklearn.linear_model import LinearRegression\n",
    "\n",
    "model_rl4 = LinearRegression() # Creando el modelo."
   ]
  },
  {
   "cell_type": "code",
   "execution_count": 31,
   "metadata": {},
   "outputs": [
    {
     "data": {
      "text/plain": [
       "LinearRegression()"
      ]
     },
     "execution_count": 31,
     "metadata": {},
     "output_type": "execute_result"
    }
   ],
   "source": [
    "# ajustando el modelo\n",
    "model_rl4.fit(X4_train, y4_train) "
   ]
  },
  {
   "cell_type": "code",
   "execution_count": 32,
   "metadata": {},
   "outputs": [
    {
     "name": "stdout",
     "output_type": "stream",
     "text": [
      "El mejor ajuste lineal viene dado por la recta: \n",
      "\n",
      "     f_4(x) = 2.61 + 0.52*x\n"
     ]
    }
   ],
   "source": [
    "# Lista de coeficientes B para cada X\n",
    "\n",
    "beta4_0 = round(model_rl4.intercept_,2)\n",
    "beta4_1 = round(model_rl4.coef_[0],2)\n",
    "\n",
    "print(f\"El mejor ajuste lineal viene dado por la recta: \\n\\n     \\\n",
    "f_4(x) = {beta4_0} + {beta4_1}*x\")"
   ]
  },
  {
   "cell_type": "code",
   "execution_count": 33,
   "metadata": {},
   "outputs": [
    {
     "data": {
      "text/plain": [
       "array([6.776, 6.776, 6.776, 6.776, 6.776])"
      ]
     },
     "execution_count": 33,
     "metadata": {},
     "output_type": "execute_result"
    }
   ],
   "source": [
    "# predicciones\n",
    "Y4_predict = model_rl4.predict(X4_test)\n",
    "Y4_predict"
   ]
  },
  {
   "cell_type": "code",
   "execution_count": 34,
   "metadata": {},
   "outputs": [
    {
     "data": {
      "image/png": "[encoded data removed]",
      "text/plain": [
       "<Figure size 792x612 with 1 Axes>"
      ]
     },
     "metadata": {},
     "output_type": "display_data"
    }
   ],
   "source": [
    "# graficos con seaborn\n",
    "        \n",
    "beta4_0 = model_rl4.intercept_\n",
    "beta4_1 = model_rl4.coef_[0]\n",
    "        \n",
    "x4_range = np.arange(8,20,0.1)\n",
    "        \n",
    "df_plot4 = pd.DataFrame({'x':x4_range,\n",
    "                        'y_true':[beta4_0 + beta4_1*n for n in x4_range]})\n",
    "  \n",
    "df4 = pd.DataFrame({'x':X4['x'],\n",
    "                           'y_true':y4})\n",
    "        \n",
    "fig, ax = plt.subplots(figsize=(11, 8.5))\n",
    "        \n",
    "        \n",
    "sns.scatterplot(x='x', y='y_true', data=df4, ax=ax)\n",
    "sns.lineplot(x='x', y='y_true', data=df_plot4,ax=ax,color=\"red\")\n",
    "\n",
    "plt.xlabel('x4')\n",
    "plt.ylabel('y4')\n",
    "plt.title('Ajuste sobre Grupo 4')\n",
    "plt.show()"
   ]
  },
  {
   "cell_type": "markdown",
   "metadata": {},
   "source": [
    "Gráficamente nuestro modelo no se ajusta a los datos, y la recta solo toma 1 dato. Veamos las métricas:"
   ]
  },
  {
   "cell_type": "code",
   "execution_count": 35,
   "metadata": {},
   "outputs": [
    {
     "name": "stdout",
     "output_type": "stream",
     "text": [
      "\n",
      "Metricas para el regresor x4:\n"
     ]
    },
    {
     "data": {
      "text/html": [
       "<div>\n",
       "<style scoped>\n",
       "    .dataframe tbody tr th:only-of-type {\n",
       "        vertical-align: middle;\n",
       "    }\n",
       "\n",
       "    .dataframe tbody tr th {\n",
       "        vertical-align: top;\n",
       "    }\n",
       "\n",
       "    .dataframe thead th {\n",
       "        text-align: right;\n",
       "    }\n",
       "</style>\n",
       "<table border=\"1\" class=\"dataframe\">\n",
       "  <thead>\n",
       "    <tr style=\"text-align: right;\">\n",
       "      <th></th>\n",
       "      <th>mae</th>\n",
       "      <th>mse</th>\n",
       "      <th>rmse</th>\n",
       "      <th>mape</th>\n",
       "      <th>maape</th>\n",
       "      <th>wmape</th>\n",
       "      <th>mmape</th>\n",
       "      <th>smape</th>\n",
       "      <th>r2</th>\n",
       "    </tr>\n",
       "  </thead>\n",
       "  <tbody>\n",
       "    <tr>\n",
       "      <th>0</th>\n",
       "      <td>0.5284</td>\n",
       "      <td>0.4559</td>\n",
       "      <td>0.6752</td>\n",
       "      <td>0.0697</td>\n",
       "      <td>0.0694</td>\n",
       "      <td>0.0731</td>\n",
       "      <td>0.0615</td>\n",
       "      <td>0.0735</td>\n",
       "      <td>-0.7992</td>\n",
       "    </tr>\n",
       "  </tbody>\n",
       "</table>\n",
       "</div>"
      ],
      "text/plain": [
       "      mae     mse    rmse    mape   maape   wmape   mmape   smape      r2\n",
       "0  0.5284  0.4559  0.6752  0.0697  0.0694  0.0731  0.0615  0.0735 -0.7992"
      ]
     },
     "execution_count": 35,
     "metadata": {},
     "output_type": "execute_result"
    }
   ],
   "source": [
    "from metrics_regression import *\n",
    "from sklearn.metrics import r2_score\n",
    " \n",
    "df_temp4 = pd.DataFrame(\n",
    "    {\n",
    "        'y':y4_test,\n",
    "        'yhat': model_rl4.predict(X4_test)\n",
    "        }\n",
    ")\n",
    "\n",
    "df_metrics4 = summary_metrics(df_temp4)\n",
    "# calcular r2 y r2 ajustado\n",
    "\n",
    "r2 = round(r2_score(y4_test, model_rl4.predict(X4_test)),4)\n",
    "\n",
    "df_metrics4['r2'] =  r2\n",
    "\n",
    "print('\\nMetricas para el regresor x4:')\n",
    "df_metrics4"
   ]
  },
  {
   "cell_type": "markdown",
   "metadata": {},
   "source": [
    "Basado en los datos y las métricas, podemos decir que el modelo no se ajusta a los datos."
   ]
  },
  {
   "cell_type": "code",
   "execution_count": null,
   "metadata": {},
   "outputs": [],
   "source": []
  }
 ],
 "metadata": {
  "kernelspec": {
   "display_name": "Python 3",
   "language": "python",
   "name": "python3"
  },
  "language_info": {
   "codemirror_mode": {
    "name": "ipython",
    "version": 3
   },
   "file_extension": ".py",
   "mimetype": "text/x-python",
   "name": "python",
   "nbconvert_exporter": "python",
   "pygments_lexer": "ipython3",
   "version": "3.8.5"
  }
 },
 "nbformat": 4,
 "nbformat_minor": 4
}

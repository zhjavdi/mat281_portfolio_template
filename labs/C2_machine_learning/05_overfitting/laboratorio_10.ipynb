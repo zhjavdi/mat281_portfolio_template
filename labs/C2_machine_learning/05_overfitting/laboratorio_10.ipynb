{
 "cells": [
  {
   "cell_type": "markdown",
   "metadata": {},
   "source": [
    "<img src=\"images/usm.jpg\" width=\"480\" height=\"240\" align=\"left\"/>"
   ]
  },
  {
   "cell_type": "markdown",
   "metadata": {},
   "source": [
    "# MAT281 - Laboratorio N°04\n",
    "\n",
    "## Objetivos del laboratorio\n",
    "\n",
    "* Reforzar conceptos básicos de reducción de dimensionalidad."
   ]
  },
  {
   "cell_type": "markdown",
   "metadata": {},
   "source": [
    "## Contenidos\n",
    "\n",
    "* [Problema 01](#p1)\n"
   ]
  },
  {
   "cell_type": "markdown",
   "metadata": {},
   "source": [
    "<a id='p1'></a>\n",
    "## I.- Problema 01\n",
    "\n",
    "\n",
    "<img src=\"https://www.goodnewsnetwork.org/wp-content/uploads/2019/07/immunotherapy-vaccine-attacks-cancer-cells-immune-blood-Fotolia_purchased.jpg\" width=\"360\" height=\"360\" align=\"center\"/>\n",
    "\n",
    "\n",
    "El **cáncer de mama**  es una proliferación maligna de las células epiteliales que revisten los conductos o lobulillos mamarios. Es una enfermedad clonal; donde una célula individual producto de una serie de mutaciones somáticas o de línea germinal adquiere la capacidad de dividirse sin control ni orden, haciendo que se reproduzca hasta formar un tumor. El tumor resultante, que comienza como anomalía leve, pasa a ser grave, invade tejidos vecinos y, finalmente, se propaga a otras partes del cuerpo.\n",
    "\n",
    "El conjunto de datos se denomina `BC.csv`, el cual contine la información de distintos pacientes con tumores (benignos o malignos) y algunas características del mismo.\n",
    "\n",
    "\n",
    "Las características se calculan a partir de una imagen digitalizada de un aspirado con aguja fina (FNA) de una masa mamaria. Describen las características de los núcleos celulares presentes en la imagen.\n",
    "Los detalles se puede encontrar en [K. P. Bennett and O. L. Mangasarian: \"Robust Linear Programming Discrimination of Two Linearly Inseparable Sets\", Optimization Methods and Software 1, 1992, 23-34].\n",
    "\n",
    "\n",
    "Lo primero será cargar el conjunto de datos:"
   ]
  },
  {
   "cell_type": "code",
   "execution_count": 1,
   "metadata": {},
   "outputs": [],
   "source": [
    "import os\n",
    "import numpy as np\n",
    "import pandas as pd\n",
    "import matplotlib.pyplot as plt\n",
    "import seaborn as sns\n",
    "\n",
    "from sklearn.preprocessing import StandardScaler\n",
    "from sklearn.decomposition import PCA\n",
    "\n",
    "\n",
    "%matplotlib inline\n",
    "sns.set_palette(\"deep\", desat=.6)\n",
    "sns.set(rc={'figure.figsize':(11.7,8.27)})"
   ]
  },
  {
   "cell_type": "code",
   "execution_count": 2,
   "metadata": {},
   "outputs": [
    {
     "data": {
      "text/html": [
       "<div>\n",
       "<style scoped>\n",
       "    .dataframe tbody tr th:only-of-type {\n",
       "        vertical-align: middle;\n",
       "    }\n",
       "\n",
       "    .dataframe tbody tr th {\n",
       "        vertical-align: top;\n",
       "    }\n",
       "\n",
       "    .dataframe thead th {\n",
       "        text-align: right;\n",
       "    }\n",
       "</style>\n",
       "<table border=\"1\" class=\"dataframe\">\n",
       "  <thead>\n",
       "    <tr style=\"text-align: right;\">\n",
       "      <th></th>\n",
       "      <th>id</th>\n",
       "      <th>diagnosis</th>\n",
       "      <th>radius_mean</th>\n",
       "      <th>texture_mean</th>\n",
       "      <th>perimeter_mean</th>\n",
       "      <th>area_mean</th>\n",
       "      <th>smoothness_mean</th>\n",
       "      <th>compactness_mean</th>\n",
       "      <th>concavity_mean</th>\n",
       "      <th>concave points_mean</th>\n",
       "      <th>...</th>\n",
       "      <th>radius_worst</th>\n",
       "      <th>texture_worst</th>\n",
       "      <th>perimeter_worst</th>\n",
       "      <th>area_worst</th>\n",
       "      <th>smoothness_worst</th>\n",
       "      <th>compactness_worst</th>\n",
       "      <th>concavity_worst</th>\n",
       "      <th>concave points_worst</th>\n",
       "      <th>symmetry_worst</th>\n",
       "      <th>fractal_dimension_worst</th>\n",
       "    </tr>\n",
       "  </thead>\n",
       "  <tbody>\n",
       "    <tr>\n",
       "      <th>0</th>\n",
       "      <td>842302</td>\n",
       "      <td>1</td>\n",
       "      <td>17.99</td>\n",
       "      <td>10.38</td>\n",
       "      <td>122.80</td>\n",
       "      <td>1001.0</td>\n",
       "      <td>0.11840</td>\n",
       "      <td>0.27760</td>\n",
       "      <td>0.3001</td>\n",
       "      <td>0.14710</td>\n",
       "      <td>...</td>\n",
       "      <td>25.38</td>\n",
       "      <td>17.33</td>\n",
       "      <td>184.60</td>\n",
       "      <td>2019.0</td>\n",
       "      <td>0.1622</td>\n",
       "      <td>0.6656</td>\n",
       "      <td>0.7119</td>\n",
       "      <td>0.2654</td>\n",
       "      <td>0.4601</td>\n",
       "      <td>0.11890</td>\n",
       "    </tr>\n",
       "    <tr>\n",
       "      <th>1</th>\n",
       "      <td>842517</td>\n",
       "      <td>1</td>\n",
       "      <td>20.57</td>\n",
       "      <td>17.77</td>\n",
       "      <td>132.90</td>\n",
       "      <td>1326.0</td>\n",
       "      <td>0.08474</td>\n",
       "      <td>0.07864</td>\n",
       "      <td>0.0869</td>\n",
       "      <td>0.07017</td>\n",
       "      <td>...</td>\n",
       "      <td>24.99</td>\n",
       "      <td>23.41</td>\n",
       "      <td>158.80</td>\n",
       "      <td>1956.0</td>\n",
       "      <td>0.1238</td>\n",
       "      <td>0.1866</td>\n",
       "      <td>0.2416</td>\n",
       "      <td>0.1860</td>\n",
       "      <td>0.2750</td>\n",
       "      <td>0.08902</td>\n",
       "    </tr>\n",
       "    <tr>\n",
       "      <th>2</th>\n",
       "      <td>84300903</td>\n",
       "      <td>1</td>\n",
       "      <td>19.69</td>\n",
       "      <td>21.25</td>\n",
       "      <td>130.00</td>\n",
       "      <td>1203.0</td>\n",
       "      <td>0.10960</td>\n",
       "      <td>0.15990</td>\n",
       "      <td>0.1974</td>\n",
       "      <td>0.12790</td>\n",
       "      <td>...</td>\n",
       "      <td>23.57</td>\n",
       "      <td>25.53</td>\n",
       "      <td>152.50</td>\n",
       "      <td>1709.0</td>\n",
       "      <td>0.1444</td>\n",
       "      <td>0.4245</td>\n",
       "      <td>0.4504</td>\n",
       "      <td>0.2430</td>\n",
       "      <td>0.3613</td>\n",
       "      <td>0.08758</td>\n",
       "    </tr>\n",
       "    <tr>\n",
       "      <th>3</th>\n",
       "      <td>84348301</td>\n",
       "      <td>1</td>\n",
       "      <td>11.42</td>\n",
       "      <td>20.38</td>\n",
       "      <td>77.58</td>\n",
       "      <td>386.1</td>\n",
       "      <td>0.14250</td>\n",
       "      <td>0.28390</td>\n",
       "      <td>0.2414</td>\n",
       "      <td>0.10520</td>\n",
       "      <td>...</td>\n",
       "      <td>14.91</td>\n",
       "      <td>26.50</td>\n",
       "      <td>98.87</td>\n",
       "      <td>567.7</td>\n",
       "      <td>0.2098</td>\n",
       "      <td>0.8663</td>\n",
       "      <td>0.6869</td>\n",
       "      <td>0.2575</td>\n",
       "      <td>0.6638</td>\n",
       "      <td>0.17300</td>\n",
       "    </tr>\n",
       "    <tr>\n",
       "      <th>4</th>\n",
       "      <td>84358402</td>\n",
       "      <td>1</td>\n",
       "      <td>20.29</td>\n",
       "      <td>14.34</td>\n",
       "      <td>135.10</td>\n",
       "      <td>1297.0</td>\n",
       "      <td>0.10030</td>\n",
       "      <td>0.13280</td>\n",
       "      <td>0.1980</td>\n",
       "      <td>0.10430</td>\n",
       "      <td>...</td>\n",
       "      <td>22.54</td>\n",
       "      <td>16.67</td>\n",
       "      <td>152.20</td>\n",
       "      <td>1575.0</td>\n",
       "      <td>0.1374</td>\n",
       "      <td>0.2050</td>\n",
       "      <td>0.4000</td>\n",
       "      <td>0.1625</td>\n",
       "      <td>0.2364</td>\n",
       "      <td>0.07678</td>\n",
       "    </tr>\n",
       "  </tbody>\n",
       "</table>\n",
       "<p>5 rows × 32 columns</p>\n",
       "</div>"
      ],
      "text/plain": [
       "         id  diagnosis  radius_mean  texture_mean  perimeter_mean  area_mean  \\\n",
       "0    842302          1        17.99         10.38          122.80     1001.0   \n",
       "1    842517          1        20.57         17.77          132.90     1326.0   \n",
       "2  84300903          1        19.69         21.25          130.00     1203.0   \n",
       "3  84348301          1        11.42         20.38           77.58      386.1   \n",
       "4  84358402          1        20.29         14.34          135.10     1297.0   \n",
       "\n",
       "   smoothness_mean  compactness_mean  concavity_mean  concave points_mean  \\\n",
       "0          0.11840           0.27760          0.3001              0.14710   \n",
       "1          0.08474           0.07864          0.0869              0.07017   \n",
       "2          0.10960           0.15990          0.1974              0.12790   \n",
       "3          0.14250           0.28390          0.2414              0.10520   \n",
       "4          0.10030           0.13280          0.1980              0.10430   \n",
       "\n",
       "   ...  radius_worst  texture_worst  perimeter_worst  area_worst  \\\n",
       "0  ...         25.38          17.33           184.60      2019.0   \n",
       "1  ...         24.99          23.41           158.80      1956.0   \n",
       "2  ...         23.57          25.53           152.50      1709.0   \n",
       "3  ...         14.91          26.50            98.87       567.7   \n",
       "4  ...         22.54          16.67           152.20      1575.0   \n",
       "\n",
       "   smoothness_worst  compactness_worst  concavity_worst  concave points_worst  \\\n",
       "0            0.1622             0.6656           0.7119                0.2654   \n",
       "1            0.1238             0.1866           0.2416                0.1860   \n",
       "2            0.1444             0.4245           0.4504                0.2430   \n",
       "3            0.2098             0.8663           0.6869                0.2575   \n",
       "4            0.1374             0.2050           0.4000                0.1625   \n",
       "\n",
       "   symmetry_worst  fractal_dimension_worst  \n",
       "0          0.4601                  0.11890  \n",
       "1          0.2750                  0.08902  \n",
       "2          0.3613                  0.08758  \n",
       "3          0.6638                  0.17300  \n",
       "4          0.2364                  0.07678  \n",
       "\n",
       "[5 rows x 32 columns]"
      ]
     },
     "execution_count": 2,
     "metadata": {},
     "output_type": "execute_result"
    }
   ],
   "source": [
    "# cargar datos\n",
    "df = pd.read_csv(os.path.join(\"data\",\"BC.csv\"), sep=\",\")\n",
    "df['diagnosis'] = df['diagnosis'] .replace({'M':1,'B':0})\n",
    "df.head()"
   ]
  },
  {
   "cell_type": "markdown",
   "metadata": {},
   "source": [
    "Basado en la información presentada responda las siguientes preguntas:\n",
    "\n",
    "\n",
    "1. Normalizar para las columnas numéricas con procesamiento **StandardScaler**.\n",
    "2. Realice un gráfico de correlación. Identifique la existencia de colinealidad.\n",
    "3. Realizar un ajuste PCA con **n_components = 10**. Realice un gráfico de la varianza y varianza acumulada. Interprete.\n",
    "4. Devuelva un dataframe con las componentes principales.\n",
    "5. Aplique al menos tres modelos de clasificación. Para cada modelo, calcule el valor de sus métricas."
   ]
  },
  {
   "cell_type": "code",
   "execution_count": 3,
   "metadata": {},
   "outputs": [
    {
     "data": {
      "text/plain": [
       "array([False])"
      ]
     },
     "execution_count": 3,
     "metadata": {},
     "output_type": "execute_result"
    }
   ],
   "source": [
    "# Revisamos si hay datos NaN\n",
    "df.isna().all().unique()"
   ]
  },
  {
   "cell_type": "markdown",
   "metadata": {},
   "source": [
    "Como nuestro dataset es un conjunto Supervisado, lo separaremos en dos conjuntos, el de atributos y características y el de etiqueta."
   ]
  },
  {
   "cell_type": "code",
   "execution_count": 4,
   "metadata": {},
   "outputs": [],
   "source": [
    "X = df.loc[:, df.columns[2:]].values\n",
    "y = df.loc[:, ['diagnosis']].values\n",
    "\n",
    "#Normalizamos con StandarScaler\n",
    "X = StandardScaler().fit_transform(X)"
   ]
  },
  {
   "cell_type": "markdown",
   "metadata": {},
   "source": [
    "Una vez aplicada la normalización de los datos, realizamos un exploratorio sobre la correlación entre los predictores."
   ]
  },
  {
   "cell_type": "code",
   "execution_count": 5,
   "metadata": {},
   "outputs": [
    {
     "data": {
      "image/png": "[encoded data removed]",
      "text/plain": [
       "<Figure size 576x576 with 2 Axes>"
      ]
     },
     "metadata": {},
     "output_type": "display_data"
    }
   ],
   "source": [
    "predictor_names = df.columns[2:]\n",
    "n_show = min(len(predictor_names),50)\n",
    "\n",
    "corrmat = df[predictor_names[:n_show]].corr()\n",
    "fig, ax = plt.subplots(figsize=(8, 8))\n",
    "sns.heatmap(corrmat, vmax=.9, square=True, ax=ax,cmap=\"PuBuGn\")\n",
    "ax.set_title(\"Correlación Lineal Predictores vs Predictores\")\n",
    "plt.show()"
   ]
  },
  {
   "cell_type": "markdown",
   "metadata": {},
   "source": [
    "Como se puede ver en las esquinas inferior izquierda y superior derecha, hay zonas más oscuras que indican una correlación mayor entre los datos. Esta correlación lineal puede afectar nuestro entrenamiento, ya que queremos que los datos sean lo más linealmente independientes posible. A continuación, realizaremos una reducción de dimensionalidad utilizando componentes principales."
   ]
  },
  {
   "cell_type": "code",
   "execution_count": 6,
   "metadata": {},
   "outputs": [],
   "source": [
    "pca = PCA(n_components=10) # modelo\n",
    "principalComponents = pca.fit_transform(X) # componentes obtenidas ajustando el modelo a los datos."
   ]
  },
  {
   "cell_type": "markdown",
   "metadata": {},
   "source": [
    "Observaremos este ajuste por componentes viendo los gráficos de varianza y varianza acumulada:"
   ]
  },
  {
   "cell_type": "code",
   "execution_count": 7,
   "metadata": {},
   "outputs": [
    {
     "data": {
      "image/png": "[encoded data removed]",
      "text/plain": [
       "<Figure size 864x288 with 1 Axes>"
      ]
     },
     "metadata": {},
     "output_type": "display_data"
    }
   ],
   "source": [
    "# grafico varianza por componente\n",
    "percent_variance = np.round(pca.explained_variance_ratio_* 100, decimals =2)\n",
    "columns = ['PC1', 'PC2', 'PC3', 'PC4', 'PC5', 'PC6', 'PC7', 'PC8', 'PC9', 'PC10']\n",
    "\n",
    "plt.figure(figsize=(12,4))\n",
    "plt.bar(x= range(1,11), height=percent_variance, tick_label=columns)\n",
    "plt.ylabel('Percentate of Variance Explained')\n",
    "plt.xlabel('Principal Component')\n",
    "plt.title('PCA Scree Plot')\n",
    "plt.show()"
   ]
  },
  {
   "cell_type": "code",
   "execution_count": 8,
   "metadata": {},
   "outputs": [
    {
     "data": {
      "image/png": "[encoded data removed]",
      "text/plain": [
       "<Figure size 864x288 with 1 Axes>"
      ]
     },
     "metadata": {},
     "output_type": "display_data"
    }
   ],
   "source": [
    "# grafico varianza por la suma acumulada de los componente\n",
    "percent_variance_cum = np.cumsum(percent_variance)\n",
    "columns = ['PC1', \n",
    "           'PC1+PC2', \n",
    "           'PC1+PC2+PC3', \n",
    "           'PC1+PC2+PC3+PC4', \n",
    "           'PC1+PC2+PC3+PC4+PC5', \n",
    "           'PC1+PC2+PC3+PC4+PC5+PC6',\n",
    "           'PC1+PC2+PC3+PC4+PC5+PC6+PC7',\n",
    "           'PC1+PC2+PC3+PC4+PC5+PC6+PC7+PC8',\n",
    "           'PC1+PC2+PC3+PC4+PC5+PC6+PC7+PC8+PC9',\n",
    "           'PC1+PC2+PC3+PC4+PC5+PC6+PC7+PC8+PC9+PC10']\n",
    "\n",
    "plt.figure(figsize=(12,4))\n",
    "plt.bar(x= range(1,11), height=percent_variance_cum, tick_label=columns)\n",
    "plt.xticks(x= range(1,11), rotation='vertical')\n",
    "plt.ylabel('Percentate of Variance Explained')\n",
    "plt.xlabel('Principal Component Cumsum')\n",
    "plt.title('PCA Scree Plot')\n",
    "plt.show()"
   ]
  },
  {
   "cell_type": "code",
   "execution_count": 9,
   "metadata": {},
   "outputs": [
    {
     "data": {
      "text/plain": [
       "array([44.27, 63.24, 72.63, 79.23, 84.73, 88.75, 91.  , 92.59, 93.98,\n",
       "       95.15])"
      ]
     },
     "execution_count": 9,
     "metadata": {},
     "output_type": "execute_result"
    }
   ],
   "source": [
    "percent_variance_cum"
   ]
  },
  {
   "cell_type": "markdown",
   "metadata": {},
   "source": [
    "El ajuste anterior nos indica que la varianza de las variables se puede explicar en 95.15% considerando solo las diez componentes principales (PC1, ... , PC10). Veamos cuáles son esas componentes:"
   ]
  },
  {
   "cell_type": "code",
   "execution_count": 10,
   "metadata": {
    "scrolled": true
   },
   "outputs": [
    {
     "data": {
      "text/html": [
       "<div>\n",
       "<style scoped>\n",
       "    .dataframe tbody tr th:only-of-type {\n",
       "        vertical-align: middle;\n",
       "    }\n",
       "\n",
       "    .dataframe tbody tr th {\n",
       "        vertical-align: top;\n",
       "    }\n",
       "\n",
       "    .dataframe thead th {\n",
       "        text-align: right;\n",
       "    }\n",
       "</style>\n",
       "<table border=\"1\" class=\"dataframe\">\n",
       "  <thead>\n",
       "    <tr style=\"text-align: right;\">\n",
       "      <th></th>\n",
       "      <th>PC1</th>\n",
       "      <th>PC2</th>\n",
       "      <th>PC3</th>\n",
       "      <th>PC4</th>\n",
       "      <th>PC5</th>\n",
       "      <th>PC6</th>\n",
       "      <th>PC7</th>\n",
       "      <th>PC8</th>\n",
       "      <th>PC9</th>\n",
       "      <th>PC10</th>\n",
       "      <th>diagnosis</th>\n",
       "    </tr>\n",
       "  </thead>\n",
       "  <tbody>\n",
       "    <tr>\n",
       "      <th>0</th>\n",
       "      <td>9.192837</td>\n",
       "      <td>1.948583</td>\n",
       "      <td>-1.123166</td>\n",
       "      <td>3.633731</td>\n",
       "      <td>-1.195110</td>\n",
       "      <td>1.411424</td>\n",
       "      <td>2.159370</td>\n",
       "      <td>-0.398407</td>\n",
       "      <td>-0.157120</td>\n",
       "      <td>-0.877411</td>\n",
       "      <td>1</td>\n",
       "    </tr>\n",
       "    <tr>\n",
       "      <th>1</th>\n",
       "      <td>2.387802</td>\n",
       "      <td>-3.768172</td>\n",
       "      <td>-0.529293</td>\n",
       "      <td>1.118264</td>\n",
       "      <td>0.621775</td>\n",
       "      <td>0.028656</td>\n",
       "      <td>0.013358</td>\n",
       "      <td>0.240987</td>\n",
       "      <td>-0.711906</td>\n",
       "      <td>1.106996</td>\n",
       "      <td>1</td>\n",
       "    </tr>\n",
       "    <tr>\n",
       "      <th>2</th>\n",
       "      <td>5.733896</td>\n",
       "      <td>-1.075174</td>\n",
       "      <td>-0.551748</td>\n",
       "      <td>0.912083</td>\n",
       "      <td>-0.177086</td>\n",
       "      <td>0.541452</td>\n",
       "      <td>-0.668166</td>\n",
       "      <td>0.097372</td>\n",
       "      <td>0.024059</td>\n",
       "      <td>0.454251</td>\n",
       "      <td>1</td>\n",
       "    </tr>\n",
       "    <tr>\n",
       "      <th>3</th>\n",
       "      <td>7.122953</td>\n",
       "      <td>10.275589</td>\n",
       "      <td>-3.232790</td>\n",
       "      <td>0.152547</td>\n",
       "      <td>-2.960878</td>\n",
       "      <td>3.053422</td>\n",
       "      <td>1.429912</td>\n",
       "      <td>1.059562</td>\n",
       "      <td>-1.405448</td>\n",
       "      <td>-1.117006</td>\n",
       "      <td>1</td>\n",
       "    </tr>\n",
       "    <tr>\n",
       "      <th>4</th>\n",
       "      <td>3.935302</td>\n",
       "      <td>-1.948072</td>\n",
       "      <td>1.389767</td>\n",
       "      <td>2.940639</td>\n",
       "      <td>0.546747</td>\n",
       "      <td>-1.226495</td>\n",
       "      <td>-0.936213</td>\n",
       "      <td>0.636377</td>\n",
       "      <td>-0.263803</td>\n",
       "      <td>0.377714</td>\n",
       "      <td>1</td>\n",
       "    </tr>\n",
       "  </tbody>\n",
       "</table>\n",
       "</div>"
      ],
      "text/plain": [
       "        PC1        PC2       PC3       PC4       PC5       PC6       PC7  \\\n",
       "0  9.192837   1.948583 -1.123166  3.633731 -1.195110  1.411424  2.159370   \n",
       "1  2.387802  -3.768172 -0.529293  1.118264  0.621775  0.028656  0.013358   \n",
       "2  5.733896  -1.075174 -0.551748  0.912083 -0.177086  0.541452 -0.668166   \n",
       "3  7.122953  10.275589 -3.232790  0.152547 -2.960878  3.053422  1.429912   \n",
       "4  3.935302  -1.948072  1.389767  2.940639  0.546747 -1.226495 -0.936213   \n",
       "\n",
       "        PC8       PC9      PC10  diagnosis  \n",
       "0 -0.398407 -0.157120 -0.877411          1  \n",
       "1  0.240987 -0.711906  1.106996          1  \n",
       "2  0.097372  0.024059  0.454251          1  \n",
       "3  1.059562 -1.405448 -1.117006          1  \n",
       "4  0.636377 -0.263803  0.377714          1  "
      ]
     },
     "execution_count": 10,
     "metadata": {},
     "output_type": "execute_result"
    }
   ],
   "source": [
    "principalDataframe = pd.DataFrame(data = principalComponents, \n",
    "                                  columns = ['PC1', 'PC2', 'PC3', 'PC4', 'PC5', 'PC6', 'PC7', 'PC8', 'PC9', 'PC10'])\n",
    "targetDataframe = df[['diagnosis']]\n",
    "\n",
    "df_red = pd.concat([principalDataframe, targetDataframe],axis = 1)\n",
    "df_red.head()"
   ]
  },
  {
   "cell_type": "code",
   "execution_count": 35,
   "metadata": {},
   "outputs": [
    {
     "name": "stdout",
     "output_type": "stream",
     "text": [
      "['d', 'b', 'f']\n",
      "['d', 'b', 'f']\n",
      "['a', 'b', 'c']\n"
     ]
    }
   ],
   "source": [
    "lista = [['a','b','c'],['d','b','f'],['d','a','c']]\n",
    "for k in range(len(lista)):\n",
    "    print(lista[lista[k][1]=='b'])"
   ]
  },
  {
   "cell_type": "markdown",
   "metadata": {},
   "source": [
    "Hemos reducido la dimensionalidad del conjunto de atributos a través del análisis de componentes principales. Ahora sobre el dataset obtenido a través de la reducción emplearemos tres modelos de clasificación y veremos sus métricas para evaluar su ajuste al fenómeno que estamos estudiando."
   ]
  },
  {
   "cell_type": "code",
   "execution_count": 11,
   "metadata": {},
   "outputs": [],
   "source": [
    "from sklearn.model_selection import train_test_split\n",
    "from sklearn.svm import SVC\n",
    "from sklearn.tree import DecisionTreeClassifier,DecisionTreeRegressor\n",
    "\n",
    "# componentes proyectadas\n",
    "\n",
    "X = df_red[['PC1', 'PC2', 'PC3', 'PC4', 'PC5', 'PC6', 'PC7', 'PC8', 'PC9', 'PC10']]\n",
    "Y = df_red['diagnosis']\n",
    "\n",
    "# crear conjunto de entrenamiento y testeo pero en con las componentes proyectadas\n",
    "X_train, X_test, Y_train, Y_test = train_test_split(X, Y, test_size=0.33, random_state = 2) "
   ]
  },
  {
   "cell_type": "code",
   "execution_count": 12,
   "metadata": {},
   "outputs": [
    {
     "name": "stdout",
     "output_type": "stream",
     "text": [
      "Separando informacion:\n",
      "\n",
      "numero de filas data original :  569\n",
      "numero de filas train set     :  381\n",
      "numero de filas test set      :  188\n"
     ]
    }
   ],
   "source": [
    "# print rows train and test sets\n",
    "print('Separando informacion:\\n')\n",
    "print('numero de filas data original : ',len(X))\n",
    "print('numero de filas train set     : ',len(X_train))\n",
    "print('numero de filas test set      : ',len(X_test))"
   ]
  },
  {
   "cell_type": "markdown",
   "metadata": {},
   "source": [
    "Utilizaremos tres clasificadores:\n",
    "* Random Forest\n",
    "* Support Vector Machine\n",
    "* One vs One"
   ]
  },
  {
   "cell_type": "code",
   "execution_count": 13,
   "metadata": {},
   "outputs": [],
   "source": [
    "from sklearn.ensemble import RandomForestClassifier\n",
    "from sklearn.multiclass import OneVsOneClassifier\n",
    "from sklearn.svm import LinearSVC\n",
    "from sklearn import svm\n",
    "\n",
    "# creamos los modelos\n",
    "clf1 = svm.SVC(random_state=2) # Clasificador 1: SVM\n",
    "clf2 = RandomForestClassifier(max_depth=2, random_state=2) # Clasificador 2: Random Forest\n",
    "clf3 = OneVsOneClassifier(LinearSVC(random_state=2)) # Clasificador 3: One vs One"
   ]
  },
  {
   "cell_type": "code",
   "execution_count": 14,
   "metadata": {},
   "outputs": [
    {
     "data": {
      "text/plain": [
       "OneVsOneClassifier(estimator=LinearSVC(random_state=2))"
      ]
     },
     "execution_count": 14,
     "metadata": {},
     "output_type": "execute_result"
    }
   ],
   "source": [
    "# ajuste de los clasificadores a los conjuntos de entrenamiento\n",
    "clf1.fit(X_train,Y_train)\n",
    "clf2.fit(X_train,Y_train)\n",
    "clf3.fit(X_train,Y_train)"
   ]
  },
  {
   "cell_type": "markdown",
   "metadata": {},
   "source": [
    "Definimos las predicciones de los clasificadores sobre los conjuntos de entrenamiento y prueba."
   ]
  },
  {
   "cell_type": "code",
   "execution_count": 15,
   "metadata": {},
   "outputs": [],
   "source": [
    "Y_predict1_train = clf1.predict(X_train)\n",
    "Y_predict1_test = clf1.predict(X_test)\n",
    "\n",
    "Y_predict2_train = clf2.predict(X_train)\n",
    "Y_predict2_test = clf2.predict(X_test)\n",
    "\n",
    "Y_predict3_train = clf3.predict(X_train)\n",
    "Y_predict3_test = clf3.predict(X_test)"
   ]
  },
  {
   "cell_type": "markdown",
   "metadata": {},
   "source": [
    "Calculamos la `accuracy` de los modelos sobre los conjuntos de entrenamiento y de prueba."
   ]
  },
  {
   "cell_type": "code",
   "execution_count": 16,
   "metadata": {},
   "outputs": [],
   "source": [
    "from sklearn import metrics \n",
    "from sklearn.metrics import confusion_matrix\n",
    "from sklearn.metrics import classification_report\n",
    "from sklearn.metrics import roc_auc_score"
   ]
  },
  {
   "cell_type": "code",
   "execution_count": 17,
   "metadata": {},
   "outputs": [
    {
     "name": "stdout",
     "output_type": "stream",
     "text": [
      "Accuracy Score over train_set - Support Vector Machine:  0.9816272965879265\n",
      "Accuracy Score over test_set - Support Vector Machine:  0.9787234042553191\n",
      "\n",
      "Accuracy Score over train_set - Random Forest:  0.9396325459317585\n",
      "Accuracy Score over test_set - Random Forest:  0.9308510638297872\n",
      "\n",
      "Accuracy Score over train_set - One Vs One:  0.9868766404199475\n",
      "Accuracy Score over test_set - One Vs One:  0.973404255319149\n"
     ]
    }
   ],
   "source": [
    "print('Accuracy Score over train_set - Support Vector Machine: ', metrics.accuracy_score(Y_train, Y_predict1_train))\n",
    "print('Accuracy Score over test_set - Support Vector Machine: ', metrics.accuracy_score(Y_test, Y_predict1_test)) \n",
    "print('')\n",
    "print('Accuracy Score over train_set - Random Forest: ', metrics.accuracy_score(Y_train, Y_predict2_train))\n",
    "print('Accuracy Score over test_set - Random Forest: ', metrics.accuracy_score(Y_test, Y_predict2_test)) \n",
    "print('')\n",
    "print('Accuracy Score over train_set - One Vs One: ', metrics.accuracy_score(Y_train, Y_predict3_train))\n",
    "print('Accuracy Score over test_set - One Vs One: ', metrics.accuracy_score(Y_test, Y_predict3_test)) "
   ]
  },
  {
   "cell_type": "markdown",
   "metadata": {},
   "source": [
    "Este `score` obtenido nos indica que estos tres modelos se ajustan bastante bien a los datos. ¿Podría existir `overfitting` sobre la predicción de los modelos? La respuesta es __no__, pues hemos realizado previamente un PCA que nos permite asegurar la independencia lineal de los datos. No obstante, podríamos tener otro error que quizás no estemos considerando (además del `GAP` que se genera entre la predicción y el testeo). Para ver mejor el fenómeno que está ocurriendo ilustraremos más métricas sobre los conjuntos de entrenamiento y prueba asociados a cada modelo:"
   ]
  },
  {
   "cell_type": "code",
   "execution_count": 18,
   "metadata": {},
   "outputs": [
    {
     "name": "stdout",
     "output_type": "stream",
     "text": [
      "SUPPORT VECTOR MACHINE Train\n",
      "Accuracy Score - SVM - Train: 0.9816272965879265\n",
      "F1 Score - SVM - Train: 0.9815836712776035\n",
      "              precision    recall  f1-score   support\n",
      "\n",
      "           0       0.98      0.99      0.99       242\n",
      "           1       0.99      0.96      0.97       139\n",
      "\n",
      "    accuracy                           0.98       381\n",
      "   macro avg       0.98      0.98      0.98       381\n",
      "weighted avg       0.98      0.98      0.98       381\n",
      "\n",
      "\n",
      "\n",
      "SUPPORT VECTOR MACHINE Test\n",
      "Accuracy Score - SVM - Test: 0.9787234042553191\n",
      "F1 Score - SVM - Test: 0.9787234042553191\n",
      "              precision    recall  f1-score   support\n",
      "\n",
      "           0       0.98      0.98      0.98       115\n",
      "           1       0.97      0.97      0.97        73\n",
      "\n",
      "    accuracy                           0.98       188\n",
      "   macro avg       0.98      0.98      0.98       188\n",
      "weighted avg       0.98      0.98      0.98       188\n",
      "\n",
      "\n",
      "\n"
     ]
    }
   ],
   "source": [
    "print('SUPPORT VECTOR MACHINE Train')\n",
    "print('Accuracy Score - SVM - Train:', metrics.accuracy_score(Y_train, Y_predict1_train))\n",
    "print('F1 Score - SVM - Train:', metrics.f1_score(Y_train, Y_predict1_train,average='weighted'))\n",
    "class_report_RF_1 = classification_report(Y_train, Y_predict1_train) #classification report\n",
    "print(class_report_RF_1)\n",
    "print('')\n",
    "print('')\n",
    "\n",
    "\n",
    "print('SUPPORT VECTOR MACHINE Test')\n",
    "print('Accuracy Score - SVM - Test:', metrics.accuracy_score(Y_test, Y_predict1_test))\n",
    "print('F1 Score - SVM - Test:', metrics.f1_score(Y_test, Y_predict1_test,average='weighted'))\n",
    "class_report_RF_2 = classification_report(Y_test, Y_predict1_test)\n",
    "print(class_report_RF_2)\n",
    "print('')\n",
    "print('')"
   ]
  },
  {
   "cell_type": "code",
   "execution_count": 19,
   "metadata": {},
   "outputs": [
    {
     "name": "stdout",
     "output_type": "stream",
     "text": [
      "RANDOM FOREST Train\n",
      "Accuracy Score - RFC - Train: 0.9396325459317585\n",
      "F1 Score - RFC - Train: 0.9392832103666227\n",
      "              precision    recall  f1-score   support\n",
      "\n",
      "           0       0.94      0.97      0.95       242\n",
      "           1       0.94      0.89      0.92       139\n",
      "\n",
      "    accuracy                           0.94       381\n",
      "   macro avg       0.94      0.93      0.93       381\n",
      "weighted avg       0.94      0.94      0.94       381\n",
      "\n",
      "\n",
      "\n",
      "RANDOM FOREST Test\n",
      "Accuracy Score - RFC - Test: 0.9308510638297872\n",
      "F1 Score - RFC - Test: 0.9303606458427643\n",
      "              precision    recall  f1-score   support\n",
      "\n",
      "           0       0.93      0.97      0.94       115\n",
      "           1       0.94      0.88      0.91        73\n",
      "\n",
      "    accuracy                           0.93       188\n",
      "   macro avg       0.93      0.92      0.93       188\n",
      "weighted avg       0.93      0.93      0.93       188\n",
      "\n",
      "\n",
      "\n"
     ]
    }
   ],
   "source": [
    "print('RANDOM FOREST Train')\n",
    "print('Accuracy Score - RFC - Train:', metrics.accuracy_score(Y_train, Y_predict2_train))\n",
    "print('F1 Score - RFC - Train:', metrics.f1_score(Y_train, Y_predict2_train,average='weighted'))\n",
    "class_report_RF_3 = classification_report(Y_train, Y_predict2_train) #classification report\n",
    "print(class_report_RF_3)\n",
    "print('')\n",
    "print('')\n",
    "\n",
    "\n",
    "print('RANDOM FOREST Test')\n",
    "print('Accuracy Score - RFC - Test:', metrics.accuracy_score(Y_test, Y_predict2_test))\n",
    "print('F1 Score - RFC - Test:', metrics.f1_score(Y_test, Y_predict2_test,average='weighted'))\n",
    "class_report_RF_4 = classification_report(Y_test, Y_predict2_test)\n",
    "print(class_report_RF_4)\n",
    "print('')\n",
    "print('')"
   ]
  },
  {
   "cell_type": "code",
   "execution_count": 20,
   "metadata": {},
   "outputs": [
    {
     "name": "stdout",
     "output_type": "stream",
     "text": [
      "ONE VS ONE Train\n",
      "Accuracy Score - OVO - Train: 0.9868766404199475\n",
      "F1 Score - OVO - Train: 0.9868454794840024\n",
      "              precision    recall  f1-score   support\n",
      "\n",
      "           0       0.98      1.00      0.99       242\n",
      "           1       0.99      0.97      0.98       139\n",
      "\n",
      "    accuracy                           0.99       381\n",
      "   macro avg       0.99      0.98      0.99       381\n",
      "weighted avg       0.99      0.99      0.99       381\n",
      "\n",
      "\n",
      "\n",
      "ONE VS ONE Test\n",
      "Accuracy Score - OVO - Test: 0.973404255319149\n",
      "F1 Score - OVO - Test: 0.9733701124016605\n",
      "              precision    recall  f1-score   support\n",
      "\n",
      "           0       0.97      0.98      0.98       115\n",
      "           1       0.97      0.96      0.97        73\n",
      "\n",
      "    accuracy                           0.97       188\n",
      "   macro avg       0.97      0.97      0.97       188\n",
      "weighted avg       0.97      0.97      0.97       188\n",
      "\n",
      "\n",
      "\n"
     ]
    }
   ],
   "source": [
    "print('ONE VS ONE Train')\n",
    "print('Accuracy Score - OVO - Train:', metrics.accuracy_score(Y_train, Y_predict3_train))\n",
    "print('F1 Score - OVO - Train:', metrics.f1_score(Y_train, Y_predict3_train,average='weighted'))\n",
    "class_report_RF_5 = classification_report(Y_train, Y_predict3_train) #classification report\n",
    "print(class_report_RF_5)\n",
    "print('')\n",
    "print('')\n",
    "\n",
    "\n",
    "print('ONE VS ONE Test')\n",
    "print('Accuracy Score - OVO - Test:', metrics.accuracy_score(Y_test, Y_predict3_test))\n",
    "print('F1 Score - OVO - Test:', metrics.f1_score(Y_test, Y_predict3_test,average='weighted'))\n",
    "class_report_RF_6 = classification_report(Y_test, Y_predict3_test)\n",
    "print(class_report_RF_6)\n",
    "print('')\n",
    "print('')"
   ]
  },
  {
   "cell_type": "markdown",
   "metadata": {},
   "source": [
    "Todas las métricas anteriores nos indican que los modelos se ajustan bastante bien a los datos y, quizás, podríamos elegir el que mejor se ajusta observándolas. ¿Estamos en presencia de `underfitting` al tener `accuracy` y `F1` similares entre entrenamiento y prueba? __No__, pues el análisis por componentes principales nos indicó que tenemos una buena representación de los datos al reducir la dimensionalidad de los predictores.\n",
    "\n",
    "En conclusión, `PCA` nos ha ayudado a quitarnos el peso de la `maldición de la dimensionalidad` del problema y hemos obtenido, a través de tres clasificadores, resultados que se aproximan bastante bien al fenómeno que se está estudiando."
   ]
  }
 ],
 "metadata": {
  "kernelspec": {
   "display_name": "Python 3",
   "language": "python",
   "name": "python3"
  },
  "language_info": {
   "codemirror_mode": {
    "name": "ipython",
    "version": 3
   },
   "file_extension": ".py",
   "mimetype": "text/x-python",
   "name": "python",
   "nbconvert_exporter": "python",
   "pygments_lexer": "ipython3",
   "version": "3.8.5"
  }
 },
 "nbformat": 4,
 "nbformat_minor": 4
}

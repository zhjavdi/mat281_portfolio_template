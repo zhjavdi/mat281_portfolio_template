{
 "cells": [
  {
   "cell_type": "markdown",
   "metadata": {},
   "source": [
    "<img src=\"images/usm.jpg\" width=\"480\" height=\"240\" align=\"left\"/>"
   ]
  },
  {
   "cell_type": "markdown",
   "metadata": {},
   "source": [
    "# MAT281 - Laboratorio N°02\n",
    "\n",
    "## Objetivos de la clase\n",
    "\n",
    "* Reforzar los conceptos básicos de numpy."
   ]
  },
  {
   "cell_type": "markdown",
   "metadata": {},
   "source": [
    "## Contenidos\n",
    "\n",
    "* [Problema 01](#p1)\n",
    "* [Problema 02](#p2)\n",
    "* [Problema 03](#p3)"
   ]
  },
  {
   "cell_type": "code",
   "execution_count": 3,
   "metadata": {},
   "outputs": [],
   "source": [
    "import numpy as np\n",
    "import time\n",
    "import sys"
   ]
  },
  {
   "cell_type": "markdown",
   "metadata": {},
   "source": [
    "<a id='p1'></a>\n",
    "\n",
    "## Problema 01\n",
    "\n",
    "Una **media móvil simple** (SMA) es el promedio de los últimos $k$ datos anteriores, es decir, sea $a_1$,$a_2$,...,$a_n$ un arreglo $n$-dimensional, entonces la SMA se define por:\n",
    "\n",
    "$$sma(k) =\\dfrac{1}{k}(a_{n}+a_{n-1}+...+a_{n-(k-1)}) = \\dfrac{1}{k}\\sum_{i=0}^{k-1}a_{n-i}  $$ \n",
    "\n",
    "\n",
    "Por otro lado podemos definir el SMA con una venta móvil de $n$ si el resultado nos retorna la el promedio ponderado avanzando de la siguiente forma:\n",
    "\n",
    "* $a = [1,2,3,4,5]$, la SMA con una ventana de $n=2$ sería:\n",
    "\n",
    "\n",
    "    * sma(2): [mean(1,2),mean(2,3),mean(3,4)] = [1.5, 2.5, 3.5, 4.5]\n",
    "    * sma(3): [mean(1,2,3),mean(2,3,4),mean(3,4,5)] = [2.,3.,4.]\n",
    "\n",
    "\n",
    "Implemente una función llamada `sma` cuyo input sea un arreglo unidimensional $a$ y un entero $n$, y cuyo ouput retorne el valor de la media móvil simple sobre el arreglo de la siguiente forma:\n",
    "\n",
    "* **Ejemplo**: *sma([5,3,8,10,2,1,5,1,0,2], 2)* = $[4. , 5.5, 9. , 6. , 1.5, 3. , 3. , 0.5, 1. ]$\n",
    "\n",
    "En este caso, se esta calculando el SMA para un arreglo con una ventana de $n=2$.\n",
    "\n",
    "**Hint**: utilice la función `numpy.cumsum`"
   ]
  },
  {
   "cell_type": "code",
   "execution_count": 6,
   "metadata": {},
   "outputs": [],
   "source": [
    "def sma(ndarray, n:int):\n",
    "    \n",
    "    \"\"\"\n",
    "    sma(ndarray,n)\n",
    "    \n",
    "    Aproximacion de Media Movil Simple (SMA) para un arreglo ndarray unidimensional fijando una ventana n.\n",
    "    \n",
    "    Parameters\n",
    "    ----------\n",
    "    ndarray : np.array\n",
    "        Arreglo unidimensional con elementos flotantes.\n",
    "    n : int\n",
    "        Orden de ventanas.\n",
    "        \n",
    "    Returns\n",
    "    -------\n",
    "    medida : np.array\n",
    "        SMA de ndarray asociado a una ventana n.\n",
    "        \n",
    "    Examples\n",
    "    --------\n",
    "    >>> sma([1,2,3,4,5],2)\n",
    "    [1.5, 2.5, 3.5, 4.5]\n",
    "    \n",
    "    >>> sma([1,2,3,4,5],3)\n",
    "    [2.0, 3.0, 4.0]\n",
    "    \n",
    "    >>> sma([5,3,8,10,2,1,5,1,0,2],2)\n",
    "    [4.0, 5.5, 9.0, 6.0, 1.5, 3.0, 3.0, 0.5, 1.0]   \n",
    "    \"\"\"\n",
    "    ndarray=np.array(ndarray)\n",
    "    if len(ndarray.shape)!=1:\n",
    "        return \"Error: el arreglo no es unidimensional\"\n",
    "    else:\n",
    "        medida = np.array([]) # iniciamos un arreglo vacio para almacenar el calculo\n",
    "        for elem in range(len(ndarray)):\n",
    "            if len(ndarray)-elem<n: # si el largo del arreglo menos la posicion del elemento es menor que n entonces quiebra\n",
    "                break\n",
    "            array_aux = np.array([ndarray[elem+i] for i in range(n)]) # para cada elemento almacena una lista de n elementos hasta agotar stock\n",
    "            medida = np.append(medida,np.mean(array_aux)) # a cada ventana de elementos se calcula la media ponderada y se añade al arreglo inicial\n",
    "\n",
    "        return np.array(medida) "
   ]
  },
  {
   "cell_type": "code",
   "execution_count": 7,
   "metadata": {},
   "outputs": [
    {
     "data": {
      "text/plain": [
       "[1.5, 2.5, 3.5, 4.5]"
      ]
     },
     "execution_count": 7,
     "metadata": {},
     "output_type": "execute_result"
    }
   ],
   "source": [
    "# example 01\n",
    "sma([1,2,3,4,5],2)"
   ]
  },
  {
   "cell_type": "code",
   "execution_count": 8,
   "metadata": {},
   "outputs": [
    {
     "data": {
      "text/plain": [
       "[2.0, 3.0, 4.0]"
      ]
     },
     "execution_count": 8,
     "metadata": {},
     "output_type": "execute_result"
    }
   ],
   "source": [
    "# example 02\n",
    "sma([1,2,3,4,5],3)"
   ]
  },
  {
   "cell_type": "code",
   "execution_count": 5,
   "metadata": {},
   "outputs": [
    {
     "data": {
      "text/plain": [
       "[4.0, 5.5, 9.0, 6.0, 1.5, 3.0, 3.0, 0.5, 1.0]"
      ]
     },
     "execution_count": 5,
     "metadata": {},
     "output_type": "execute_result"
    }
   ],
   "source": [
    "# example 03\n",
    "sma([5,3,8,10,2,1,5,1,0,2], 2)"
   ]
  },
  {
   "cell_type": "markdown",
   "metadata": {},
   "source": [
    "<a id='p2'></a>\n",
    "\n",
    "## Problema 02\n",
    "\n",
    "La función **strides($a,n,p$)**, corresponde a transformar un arreglo unidimensional $a$ en una matriz de $n$ columnas, en el cual las filas se van construyendo desfasando la posición del arreglo en $p$ pasos hacia adelante.\n",
    "\n",
    "* Para el arreglo unidimensional $a$ = [ 1,  2,  3,  4,  5,  6,  7,  8,  9, 10], la función strides($a,4,2$), corresponde a crear una matriz de $4$ columnas, cuyos desfaces hacia adelante se hacen de dos en dos. \n",
    "\n",
    "El resultado tendría que ser algo así:$$\\begin{pmatrix}\n",
    " 1& 2 &3 &4 \\\\ \n",
    " 3&  4&5&6 \\\\ \n",
    " 5& 6 &7 &8 \\\\ \n",
    " 7& 8 &9 &10 \\\\ \n",
    "\\end{pmatrix}$$\n",
    "\n",
    "\n",
    "Implemente una función llamada `strides(a,4,2)` cuyo input sea un arreglo unidimensional y retorne la matriz de $4$ columnas, cuyos desfaces hacia adelante se hacen de dos en dos. \n",
    "\n",
    "* **Ejemplo**: *strides($a$,4,2)* =$\\begin{pmatrix}\n",
    " 1& 2 &3 &4 \\\\ \n",
    " 3&  4&5&6 \\\\ \n",
    " 5& 6 &7 &8 \\\\ \n",
    " 7& 8 &9 &10 \\\\ \n",
    "\\end{pmatrix}$\n"
   ]
  },
  {
   "cell_type": "code",
   "execution_count": 100,
   "metadata": {},
   "outputs": [],
   "source": [
    "def strides(a:np.array, n:int, p:int)->np.array:\n",
    "    \n",
    "    \"\"\"\n",
    "    strides(a,n,p)\n",
    "    \n",
    "    Un arreglo unidimensional a se transforma en una matriz de n columnas cuyo llenado de filas corresponde al desplazamiento de p pasos en el arreglo.\n",
    "    \n",
    "    Parameters\n",
    "    ----------\n",
    "    a : np.array\n",
    "        Arreglo unidimensional con elementos flotantes.\n",
    "    n : int\n",
    "        Cantidad de columnas.\n",
    "    p : int\n",
    "        Pasos de desplazamiento en el arreglo a.\n",
    "        \n",
    "    Returns\n",
    "    -------\n",
    "    matrix : np.array\n",
    "        Matriz de 4 columnas cuyas filas se llenan desplazando p veces los elementos de a.\n",
    "        \n",
    "    Examples\n",
    "    --------\n",
    "    >>> strides([1, 2, 3, 4, 5, 6, 7, 8, 9, 10],4,2)\n",
    "    array([[ 1.,  2.,  3.,  4.],\n",
    "       [ 3.,  4.,  5.,  6.],\n",
    "       [ 5.,  6.,  7.,  8.],\n",
    "       [ 7.,  8.,  9., 10.]])\n",
    "    \"\"\"\n",
    "    \n",
    "    a = np.array(a)\n",
    "    if len(a.shape)!=1: # si el arreglo a no es unidimensional entonces no se puede emplear la funcion\n",
    "        return \"Error: el arreglo no es unidimensional\"\n",
    "    \n",
    "    else:\n",
    "        matrix = np.zeros((int((len(a)-n+p)/p),n)) # creamos una matriz de ceros para luego reemplazar las filas\n",
    "        for fila in range(int((len(a)-n+p)/p)+1):\n",
    "            if fila>0: # si no estamos en la siguiente fila hacemos lo que sigue\n",
    "                if len(a[fila*p:fila*p+n])>n: \n",
    "                    continue # si la fila supera el largo n entonces no hace nada (se salta a la siguiente fila)\n",
    "                elif len(a[fila*p:fila*p+n])<n: \n",
    "                    break # si llegamos al final del arreglo y nos sobran menos de n terminos entonces la funcion se termina\n",
    "                else: \n",
    "                    matrix[fila] = np.array(a[fila*p:fila*p+n]) # a cada fila distinta de la primera colocamos los terminos del arreglo segun el desplazamiento p, cada fila tiene un largo n\n",
    "                    print(\"Fila \"+str(fila+1)+\": \"+str(matrix[fila]))\n",
    "            else:\n",
    "                matrix[fila] = np.array(a[:n]) # la primera fila son los primeros n terminos del arreglo\n",
    "                print(\"Fila \"+str(fila+1)+\": \"+str(matrix[fila]))\n",
    "                \n",
    "        return matrix"
   ]
  },
  {
   "cell_type": "code",
   "execution_count": 101,
   "metadata": {},
   "outputs": [
    {
     "name": "stdout",
     "output_type": "stream",
     "text": [
      "Fila 1: [1. 2. 3. 4.]\n",
      "Fila 2: [3. 4. 5. 6.]\n",
      "Fila 3: [5. 6. 7. 8.]\n",
      "Fila 4: [ 7.  8.  9. 10.]\n"
     ]
    },
    {
     "data": {
      "text/plain": [
       "array([[ 1.,  2.,  3.,  4.],\n",
       "       [ 3.,  4.,  5.,  6.],\n",
       "       [ 5.,  6.,  7.,  8.],\n",
       "       [ 7.,  8.,  9., 10.]])"
      ]
     },
     "execution_count": 101,
     "metadata": {},
     "output_type": "execute_result"
    }
   ],
   "source": [
    "strides([1,2,3,4,5,6,7,8,9,10],4,2)"
   ]
  },
  {
   "cell_type": "markdown",
   "metadata": {},
   "source": [
    "<a id='p3'></a>\n",
    "\n",
    "## Problema 03\n",
    "\n",
    "\n",
    "Un **cuadrado mágico** es una matriz de tamaño $n \\times n$ de números enteros positivos tal que \n",
    "la suma de los números por columnas, filas y diagonales principales sea la misma. Usualmente, los números empleados para rellenar las casillas son consecutivos, de 1 a $n^2$, siendo $n$ el número de columnas y filas del cuadrado mágico.\n",
    "\n",
    "Si los números son consecutivos de 1 a $n^2$, la suma de los números por columnas, filas y diagonales principales \n",
    "es igual a : $$M_{n} = \\dfrac{n(n^2+1)}{2}$$\n",
    "Por ejemplo, \n",
    "\n",
    "* $A= \\begin{pmatrix}\n",
    " 4& 9 &2 \\\\ \n",
    " 3&  5&7 \\\\ \n",
    " 8& 1 &6 \n",
    "\\end{pmatrix}$,\n",
    "es un cuadrado mágico.\n",
    "\n",
    "* $B= \\begin{pmatrix}\n",
    " 4& 2 &9 \\\\ \n",
    " 3&  5&7 \\\\ \n",
    " 8& 1 &6 \n",
    "\\end{pmatrix}$, no es un cuadrado mágico.\n",
    "\n",
    "Implemente una función llamada `es_cuadrado_magico` cuyo input sea una matriz cuadrada de tamaño $n$ con números consecutivos de $1$ a $n^2$ y cuyo ouput retorne *True* si es un cuadrado mágico o 'False', en caso contrario\n",
    "\n",
    "* **Ejemplo**: *es_cuadrado_magico($A$)* = True, *es_cuadrado_magico($B$)* = False\n",
    "\n",
    "**Hint**: Cree una función que valide que la mariz es cuadrada y  que sus números son consecutivos del 1 a $n^2$."
   ]
  },
  {
   "cell_type": "code",
   "execution_count": null,
   "metadata": {},
   "outputs": [],
   "source": []
  }
 ],
 "metadata": {
  "kernelspec": {
   "display_name": "Python 3",
   "language": "python",
   "name": "python3"
  },
  "language_info": {
   "codemirror_mode": {
    "name": "ipython",
    "version": 3
   },
   "file_extension": ".py",
   "mimetype": "text/x-python",
   "name": "python",
   "nbconvert_exporter": "python",
   "pygments_lexer": "ipython3",
   "version": "3.8.5"
  }
 },
 "nbformat": 4,
 "nbformat_minor": 4
}

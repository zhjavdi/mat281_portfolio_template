{
 "cells": [
  {
   "cell_type": "markdown",
   "metadata": {},
   "source": [
    "<img src=\"images/usm.jpg\" width=\"480\" height=\"240\" align=\"left\"/>"
   ]
  },
  {
   "cell_type": "markdown",
   "metadata": {},
   "source": [
    "# MAT281 -  Introducción a Pandas"
   ]
  },
  {
   "cell_type": "markdown",
   "metadata": {},
   "source": [
    "## Objetivos de la clase\n",
    "\n",
    "* Aprender conceptos básicos de la librería pandas.\n"
   ]
  },
  {
   "cell_type": "markdown",
   "metadata": {},
   "source": [
    "## Contenidos\n",
    "\n",
    "* [Pandas](#c1)"
   ]
  },
  {
   "cell_type": "markdown",
   "metadata": {},
   "source": [
    "<a id='c1'></a>\n",
    "\n",
    "## Pandas\n",
    "\n",
    "<img src=\"images/pandas.jpeg\" width=\"360\" height=\"240\" align=\"center\"/>\n",
    "\n",
    "\n",
    "[Pandas](https://pandas.pydata.org/) es un paquete de Python que proporciona estructuras de datos rápidas, flexibles y expresivas diseñadas para que trabajar con datos \"relacionales\" o \"etiquetados\" sea fácil e intuitivo. \n",
    "\n",
    "Su objetivo es ser el bloque de construcción fundamental de alto nivel para hacer análisis de datos prácticos del mundo real en Python. Además, tiene el objetivo más amplio de convertirse en la herramienta de análisis/manipulación de datos de código abierto más potente y flexible disponible en cualquier idioma. Ya está en camino hacia este objetivo.\n",
    "\n"
   ]
  },
  {
   "cell_type": "markdown",
   "metadata": {},
   "source": [
    "### Series y DataFrames\n",
    "\n",
    "* Las **series** son  arreglos unidimensionales con etiquetas. Se puede pensar como una generalización de los diccionarios de Python. \n",
    "\n",
    "* Los **dataframe** son arreglos bidimensionales y una extensión natural de las series. Se puede pensar como la generalización de un numpy.array.\n"
   ]
  },
  {
   "cell_type": "markdown",
   "metadata": {},
   "source": [
    "## 1.- Pandas Series\n",
    "\n",
    "### Operaciones Básicas con series"
   ]
  },
  {
   "cell_type": "code",
   "execution_count": null,
   "metadata": {},
   "outputs": [],
   "source": [
    "# importar libreria: pandas, os\n",
    "import pandas as pd\n",
    "import numpy as np\n",
    "import os"
   ]
  },
  {
   "cell_type": "code",
   "execution_count": null,
   "metadata": {},
   "outputs": [],
   "source": [
    "# crear serie\n",
    "my_serie = pd.Series(range(3, 33, 3), index=list('abcdefghij'))\n",
    "\n",
    "# imprimir serie\n",
    "print(\"serie:\")\n",
    "print( my_serie )"
   ]
  },
  {
   "cell_type": "code",
   "execution_count": null,
   "metadata": {},
   "outputs": [],
   "source": [
    "# tipo \n",
    "print(\"type:\")\n",
    "print( type(my_serie) )"
   ]
  },
  {
   "cell_type": "code",
   "execution_count": null,
   "metadata": {},
   "outputs": [],
   "source": [
    "# valores \n",
    "print(\"values:\")\n",
    "print(my_serie.values)"
   ]
  },
  {
   "cell_type": "code",
   "execution_count": null,
   "metadata": {},
   "outputs": [],
   "source": [
    "# indice\n",
    "print(\"index:\")\n",
    "print(my_serie.index)"
   ]
  },
  {
   "cell_type": "code",
   "execution_count": null,
   "metadata": {},
   "outputs": [],
   "source": [
    "# acceder al valor de la serie: directo\n",
    "print(\"direct:\")\n",
    "print(my_serie['b'])"
   ]
  },
  {
   "cell_type": "code",
   "execution_count": null,
   "metadata": {},
   "outputs": [],
   "source": [
    "# acceder al valor de la serie: loc\n",
    "print(\"loc:\")\n",
    "print(my_serie.loc['b'])"
   ]
  },
  {
   "cell_type": "code",
   "execution_count": null,
   "metadata": {},
   "outputs": [],
   "source": [
    "# acceder al valor de la serie: iloc\n",
    "print(\"iloc:\")\n",
    "print(my_serie.iloc[1])"
   ]
  },
  {
   "cell_type": "code",
   "execution_count": null,
   "metadata": {},
   "outputs": [],
   "source": [
    "# editar valores\n",
    "print(\"edit:\")\n",
    "print(\"\\nold 'd':\",my_serie.loc['d'] )\n",
    "my_serie.loc['d'] = 1000\n",
    "print(\"new 'd':\",my_serie.loc['d'] )"
   ]
  },
  {
   "cell_type": "markdown",
   "metadata": {},
   "source": [
    "###  Manejo de Fechas\n",
    "\n",
    "Pandas también trae módulos para trabajar el formato de fechas."
   ]
  },
  {
   "cell_type": "code",
   "execution_count": null,
   "metadata": {},
   "outputs": [],
   "source": [
    "# crear serie de fechas\n",
    "date_rng = pd.date_range(start='1/1/2019', end='1/03/2019', freq='4H')\n",
    "\n",
    "# imprimir serie\n",
    "print(\"serie:\")\n",
    "print( date_rng )"
   ]
  },
  {
   "cell_type": "code",
   "execution_count": null,
   "metadata": {},
   "outputs": [],
   "source": [
    "# tipo \n",
    "print(\"type:\\n\")\n",
    "print( type(date_rng) )"
   ]
  },
  {
   "cell_type": "code",
   "execution_count": null,
   "metadata": {},
   "outputs": [],
   "source": [
    "# elementos de datetime a string \n",
    "string_date_rng = [str(x) for x in date_rng]\n",
    "\n",
    "print(\"datetime to string: \\n\")\n",
    "print( np.array(string_date_rng) )"
   ]
  },
  {
   "cell_type": "code",
   "execution_count": null,
   "metadata": {},
   "outputs": [],
   "source": [
    "# elementos de string a datetime \n",
    "timestamp_date_rng = pd.to_datetime(string_date_rng, infer_datetime_format=True)\n",
    "\n",
    "print(\"string to datetime:\\n\")\n",
    "print( timestamp_date_rng )"
   ]
  },
  {
   "cell_type": "code",
   "execution_count": null,
   "metadata": {},
   "outputs": [],
   "source": [
    "# obtener fechas\n",
    "print(\"date:\\n\")\n",
    "print(timestamp_date_rng.date)"
   ]
  },
  {
   "cell_type": "code",
   "execution_count": null,
   "metadata": {},
   "outputs": [],
   "source": [
    "# obtener horas\n",
    "print(\"hour:\\n\")\n",
    "print(timestamp_date_rng.hour)"
   ]
  },
  {
   "cell_type": "markdown",
   "metadata": {},
   "source": [
    "### Operaciones matemáticas\n",
    "\n",
    "Al igual que numpy, las series de pandas pueden realizar operaciones matemáticas similares (mientrás los arreglos a operar sean del tipo numérico). Por otro lado existen otras funciones de utilidad."
   ]
  },
  {
   "cell_type": "code",
   "execution_count": null,
   "metadata": {},
   "outputs": [],
   "source": [
    "# crear serie\n",
    "s1 = pd.Series([1,1,1,2,2,2,3,3,3,4,5,5,5,5])\n",
    "\n",
    "\n",
    "print(f\"max:    {s1.max()}\") # maximo\n",
    "print(f\"min:    {s1.min()}\") # minimo\n",
    "print(f\"mean:   {s1.mean()}\") # promedio\n",
    "print(f\"median: {s1.median()}\") # mediana"
   ]
  },
  {
   "cell_type": "markdown",
   "metadata": {},
   "source": [
    "###  Masking\n",
    "\n",
    "Existen módulos para acceder a valores que queremos que cumplan una determinada regla. Por ejemplo, acceder al valor máximo de una serie. En este caso a esta regla la denominaremos *mask*.\n"
   ]
  },
  {
   "cell_type": "code",
   "execution_count": null,
   "metadata": {},
   "outputs": [],
   "source": [
    "# 1. definir valor maximo \n",
    "n_max = s1.max()\n",
    "\n",
    "# 2.- definir \"mask\" que busca el valor\n",
    "mask = s1 == n_max\n",
    "\n",
    "# 3.- aplicar mask sobre la serie\n",
    "s1[mask]"
   ]
  },
  {
   "cell_type": "markdown",
   "metadata": {},
   "source": [
    "### Valores Nulos o datos perdidos\n",
    "\n",
    "En algunas ocaciones, los arreglos no tienen información en una determinada posición, lo cual puede ser perjudicial si no se tiene control sobre estos valores.\n",
    "\n",
    "### a) Encontrar valores nulos"
   ]
  },
  {
   "cell_type": "code",
   "execution_count": null,
   "metadata": {},
   "outputs": [],
   "source": [
    "# crear serie\n",
    "s_null = pd.Series([1,2,np.nan,4,5,6,7,np.nan,9])\n",
    "s_null"
   ]
  },
  {
   "cell_type": "code",
   "execution_count": null,
   "metadata": {},
   "outputs": [],
   "source": [
    "# mask valores nulos\n",
    "print(\"is null?:\\n\")\n",
    "print(s_null.isnull() )"
   ]
  },
  {
   "cell_type": "code",
   "execution_count": null,
   "metadata": {},
   "outputs": [],
   "source": [
    "# filtrar valores nulos\n",
    "print(\"null serie: \\n\")\n",
    "print(s_null[s_null.isnull()] )"
   ]
  },
  {
   "cell_type": "markdown",
   "metadata": {},
   "source": [
    "### b) Encontrar valores no nulos"
   ]
  },
  {
   "cell_type": "code",
   "execution_count": null,
   "metadata": {},
   "outputs": [],
   "source": [
    "# imprimir serie\n",
    "print(\"serie:\")\n",
    "print( s_null )"
   ]
  },
  {
   "cell_type": "code",
   "execution_count": null,
   "metadata": {},
   "outputs": [],
   "source": [
    "# mask valores no nulos\n",
    "print(\"\\nis not null?:\")\n",
    "print(s_null.notnull() )"
   ]
  },
  {
   "cell_type": "code",
   "execution_count": null,
   "metadata": {},
   "outputs": [],
   "source": [
    "# filtrar valores no nulos\n",
    "print(\"\\nserie with not null values\")\n",
    "print(s_null[s_null.notnull()] )"
   ]
  },
  {
   "cell_type": "markdown",
   "metadata": {},
   "source": [
    "La pregunta que nos queda hacer es: ¿ Qué se debe hacer con los valores nulos ?, la respuesta es **depende**.\n",
    "\n",
    "   * Si tenemos muchos datos, lo más probable es que se puedan eliminar estos datos sin culpa.\n",
    "   * Si se tienen poco datos, lo más probable es que se necesite inputar un valor por defecto a los valores nulos (**ejemplo**: el promedio)."
   ]
  },
  {
   "cell_type": "markdown",
   "metadata": {},
   "source": [
    "## 2.- Pandas Dataframes\n",
    "\n",
    "### Trabajando  con DataFrames\n",
    "\n",
    "\n",
    "<img src=\"images/dataframe.png\" width=\"360\" height=\"240\" align=\"center\"/>\n",
    "\n",
    "\n",
    "Como se mencina anteriormente, los dataframes son arreglos de series, los cuales pueden ser de distintos tipos (numéricos, string, etc.). En esta parte mostraremos un ejemplo aplicado de las distintas funcionalidades de los dataframes."
   ]
  },
  {
   "cell_type": "markdown",
   "metadata": {},
   "source": [
    "### Creación de dataframes\n",
    "\n",
    "La creación se puede hacer de variadas formas con listas, dictionarios , numpy array , entre otros.\n"
   ]
  },
  {
   "cell_type": "code",
   "execution_count": null,
   "metadata": {},
   "outputs": [],
   "source": [
    "# empty dataframe\n",
    "df_empty = pd.DataFrame()\n",
    "df_empty"
   ]
  },
  {
   "cell_type": "code",
   "execution_count": null,
   "metadata": {},
   "outputs": [],
   "source": [
    "# dataframe with list\n",
    "df_list = pd.DataFrame(\n",
    "    [\n",
    "        [\"nombre_01\", \"apellido_01\", 60],\n",
    "        [\"nombre_02\", \"apellido_02\", 14]\n",
    "    ], columns = [\"nombre\", \"apellido\", \"edad\"]\n",
    ")\n",
    "df_list"
   ]
  },
  {
   "cell_type": "code",
   "execution_count": null,
   "metadata": {},
   "outputs": [],
   "source": [
    "# dataframe with dct\n",
    "df_dct =  pd.DataFrame(\n",
    "    {\n",
    "        \"nombre\": [\"nombre_01\", \"nombre_02\"],\n",
    "        \"apellido\": [\"apellido_01\", \"apellido_02\"],\n",
    "        \"edad\": np.array([60,14]),\n",
    "    }\n",
    ")\n",
    "df_dct"
   ]
  },
  {
   "cell_type": "markdown",
   "metadata": {},
   "source": [
    "### Lectura de datos con dataframes\n",
    "\n",
    "En general, cuando se trabajan con datos, estos se almacenan en algún lugar y en algún tipo de formato, por ejemplo:\n",
    " * .txt\n",
    " * .csv\n",
    " * .xlsx\n",
    " * .db\n",
    " * etc.\n",
    " \n",
    " \n",
    "\n",
    "Para cada formato, existe un módulo para realizar la lectura de datos. En este caso, se analiza el conjunto de datos 'player_data.csv', el cual muestra informacion básica de algunos jugadores de la NBA.\n",
    "\n",
    "<img src=\"images/nba_logo.jpg\" width=\"360\" height=\"240\" align=\"center\"/>\n"
   ]
  },
  {
   "cell_type": "code",
   "execution_count": null,
   "metadata": {},
   "outputs": [],
   "source": [
    "# load data\n",
    "player_data = pd.read_csv(os.path.join('data', 'player_data.csv'), index_col='name')"
   ]
  },
  {
   "cell_type": "markdown",
   "metadata": {},
   "source": [
    "### Módulos básicos\n",
    "\n",
    "Existen módulos para comprender rápidamente la naturaleza del dataframe."
   ]
  },
  {
   "cell_type": "code",
   "execution_count": null,
   "metadata": {},
   "outputs": [],
   "source": [
    "# first 5 rows\n",
    "print(\"first 5 rows:\")\n",
    "player_data.head(5)"
   ]
  },
  {
   "cell_type": "code",
   "execution_count": null,
   "metadata": {},
   "outputs": [],
   "source": [
    "# last 5 rows\n",
    "print(\"\\nlast 5 rows:\")\n",
    "player_data.tail(5)"
   ]
  },
  {
   "cell_type": "code",
   "execution_count": null,
   "metadata": {},
   "outputs": [],
   "source": [
    "# tipo\n",
    "print(\"\\ntype of dataframe:\")\n",
    "type(player_data)"
   ]
  },
  {
   "cell_type": "code",
   "execution_count": null,
   "metadata": {},
   "outputs": [],
   "source": [
    "# tipo por columns\n",
    "print(\"\\ntype of columns:\")\n",
    "player_data.dtypes"
   ]
  },
  {
   "cell_type": "code",
   "execution_count": null,
   "metadata": {},
   "outputs": [],
   "source": [
    "# dimension\n",
    "print(\"\\nshape:\")\n",
    "player_data.shape"
   ]
  },
  {
   "cell_type": "code",
   "execution_count": null,
   "metadata": {},
   "outputs": [],
   "source": [
    "# columna posicion\n",
    "print(\"\\ncolumn 'position': \")\n",
    "player_data['position'].head()"
   ]
  },
  {
   "cell_type": "markdown",
   "metadata": {},
   "source": [
    "### Exploración de datos\n",
    "\n",
    "Existen módulos de pandas que realizan resumen de la información que dispone el dataframe."
   ]
  },
  {
   "cell_type": "code",
   "execution_count": null,
   "metadata": {},
   "outputs": [],
   "source": [
    "# descripcion \n",
    "player_data.describe(include='all')"
   ]
  },
  {
   "cell_type": "markdown",
   "metadata": {},
   "source": [
    "### Operando sobre Dataframes\n",
    "\n",
    "Cuando se trabaja con un conjunto de datos, se crea una dinámica de preguntas y respuestas, en donde a medida que necesito información, se va accediendo al dataframe. En algunas ocaciones es directo, basta un simple módulo, aunque en otras será necesaria realizar operaciones un poco más complejas. \n",
    "\n",
    "Por ejemplo, del conjunto de datos en estudio, se esta interesado en responder las siguientes preguntas:\n"
   ]
  },
  {
   "cell_type": "markdown",
   "metadata": {},
   "source": [
    "### a) Determine si el dataframe tiene valores nulos  "
   ]
  },
  {
   "cell_type": "code",
   "execution_count": null,
   "metadata": {},
   "outputs": [],
   "source": [
    "player_data.notnull().all(axis=1).head(10)"
   ]
  },
  {
   "cell_type": "markdown",
   "metadata": {},
   "source": [
    "### b) Elimine los valores nulos del dataframe"
   ]
  },
  {
   "cell_type": "code",
   "execution_count": null,
   "metadata": {},
   "outputs": [],
   "source": [
    "player_data = player_data[lambda df: df.notnull().all(axis=1)]\n",
    "player_data.head()"
   ]
  },
  {
   "cell_type": "markdown",
   "metadata": {},
   "source": [
    "### c) Determinar el tiempo de cada jugador en su posición."
   ]
  },
  {
   "cell_type": "code",
   "execution_count": null,
   "metadata": {},
   "outputs": [],
   "source": [
    "# Determinar el tiempo de cada jugador en su posición.\n",
    "player_data['duration'] = player_data['year_end'] - player_data['year_start']\n",
    "player_data.head()"
   ]
  },
  {
   "cell_type": "markdown",
   "metadata": {},
   "source": [
    "### d) Castear la fecha de str a objeto datetime"
   ]
  },
  {
   "cell_type": "code",
   "execution_count": null,
   "metadata": {},
   "outputs": [],
   "source": [
    "# Castear la fecha de str a objeto datetime\n",
    "player_data['birth_date_dt'] = pd.to_datetime(player_data['birth_date'], format=\"%B %d, %Y\")\n",
    "player_data.head()"
   ]
  },
  {
   "cell_type": "markdown",
   "metadata": {},
   "source": [
    "### e) Determinar todas las posiciones."
   ]
  },
  {
   "cell_type": "code",
   "execution_count": null,
   "metadata": {},
   "outputs": [],
   "source": [
    "# Determinar todas las posiciones.\n",
    "positions = player_data['position'].unique()\n",
    "positions"
   ]
  },
  {
   "cell_type": "markdown",
   "metadata": {},
   "source": [
    "### f) Iterar sobre cada posición y encontrar el mayor valor."
   ]
  },
  {
   "cell_type": "code",
   "execution_count": null,
   "metadata": {},
   "outputs": [],
   "source": [
    "# Iterar sobre cada posición y encontrar el mayor valor.\n",
    "nba_position_duration = pd.Series()\n",
    "for position in positions:\n",
    "    df_aux = player_data.loc[lambda x: x['position'] == position]\n",
    "    max_duration = df_aux['duration'].max()\n",
    "    nba_position_duration.loc[position] = max_duration\n",
    "nba_position_duration"
   ]
  },
  {
   "cell_type": "markdown",
   "metadata": {},
   "source": [
    "### g) Dermine los jugadores más altos de la NBA"
   ]
  },
  {
   "cell_type": "code",
   "execution_count": null,
   "metadata": {},
   "outputs": [],
   "source": [
    "# iteracion jugador mas alto\n",
    "height_split = player_data['height'].str.split('-')\n",
    "for player, height_list in height_split.items():\n",
    "    if height_list == height_list:\n",
    "        # Para manejar el caso en que la altura sea nan.\n",
    "        height = int(height_list[0]) * 30.48 + int(height_list[1]) * 2.54\n",
    "        player_data.loc[player, \"height_cm\"] = height\n",
    "    else:\n",
    "        player_data.loc[player, \"height_cm\"] = np.nan\n",
    "\n",
    "max_height = player_data['height_cm'].max()\n",
    "tallest_player = player_data.loc[lambda x: x['height_cm'] == max_height].index.tolist()\n",
    "print(tallest_player)"
   ]
  },
  {
   "cell_type": "markdown",
   "metadata": {},
   "source": [
    "## Referencia\n",
    "\n",
    "1. [Python Pandas Tutorial: A Complete Introduction for Beginners](https://www.learndatasci.com/tutorials/python-pandas-tutorial-complete-introduction-for-beginners/)\n",
    "2. [General functions](https://pandas.pydata.org/pandas-docs/stable/reference/general_functions.html)"
   ]
  }
 ],
 "metadata": {
  "kernelspec": {
   "display_name": "Python 3",
   "language": "python",
   "name": "python3"
  },
  "language_info": {
   "codemirror_mode": {
    "name": "ipython",
    "version": 3
   },
   "file_extension": ".py",
   "mimetype": "text/x-python",
   "name": "python",
   "nbconvert_exporter": "python",
   "pygments_lexer": "ipython3",
   "version": "3.8.5"
  }
 },
 "nbformat": 4,
 "nbformat_minor": 4
}
